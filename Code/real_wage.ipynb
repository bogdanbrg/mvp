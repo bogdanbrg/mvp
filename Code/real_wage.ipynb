{
 "cells": [
  {
   "cell_type": "code",
   "execution_count": 3,
   "metadata": {},
   "outputs": [
    {
     "name": "stdout",
     "output_type": "stream",
     "text": [
      "Data from 'inflation.xlsx' read successfully.\n",
      "Data from 'average_wage.xlsx' read successfully.\n",
      "\n",
      "Data from 'inflation' DataFrame:\n",
      "   Year  Inflation\n",
      "0  1971      0.006\n",
      "1  1972      0.000\n",
      "2  1973      0.007\n",
      "3  1974      0.011\n",
      "4  1975      0.002\n",
      "\n",
      "Data from 'average_wage' DataFrame:\n",
      "   Year     Jan     Feb     Mar     Apr     Maz     Jun     Jul     Aug  \\\n",
      "0  1991    4038    3978    4110    6213    7550    7787    8263    8239   \n",
      "1  1992   13005   12717   15287   15677   17709   19426   19989   19804   \n",
      "2  1993   27763   29162   37146   38319   51034   58917   67047   75032   \n",
      "3  1994  101795  106378  112603  126194  126464  131134  142657  153883   \n",
      "4  1995  170885  173758  182803  199030  199702  205080  218535  230338   \n",
      "\n",
      "      Sep     Oct     Nov     Dec     Yearly Avg  Average wage (RON)  \n",
      "0    9174    9824   10773   11824    7647.750000            0.764775  \n",
      "1   23306   24080   28456   32612   20172.333333            2.017233  \n",
      "2   74723   79732   93020  101331   61102.166667            6.110217  \n",
      "3  153486  160483  167745  198530  140112.666667           14.011267  \n",
      "4  229543  242612  252217  282995  215624.833333           21.562483  \n"
     ]
    }
   ],
   "source": [
    "import pandas as pd\n",
    "\n",
    "# Path to the Excel files\n",
    "file_path = r'C:\\Users\\Svitlana\\OneDrive\\RoFacts\\mvp\\Raw Data\\\\'\n",
    "\n",
    "# List of file names\n",
    "file_names = [\"inflation.xlsx\", \"average_wage.xlsx\"]\n",
    "\n",
    "# Dictionary to hold DataFrames\n",
    "dfs = {}\n",
    "# Read each Excel file\n",
    "for file_name in file_names:\n",
    "    try:\n",
    "        df = pd.read_excel(file_path + file_name)\n",
    "        dfs[file_name.split('.')[0]] = df  # Store DataFrame with file name as key\n",
    "        print(f\"Data from '{file_name}' read successfully.\")\n",
    "    except FileNotFoundError:\n",
    "        print(f\"File '{file_name}' not found.\")\n",
    "    except Exception as e:\n",
    "        print(f\"An error occurred while reading '{file_name}':\", e)\n",
    "\n",
    "# Example of accessing DataFrames\n",
    "if 'inflation' in dfs:\n",
    "    print(\"\\nData from 'inflation' DataFrame:\")\n",
    "    print(dfs['inflation'].head())\n",
    "\n",
    "if 'average_wage' in dfs:\n",
    "    print(\"\\nData from 'average_wage' DataFrame:\")\n",
    "    print(dfs['average_wage'].head())"
   ]
  },
  {
   "cell_type": "code",
   "execution_count": 4,
   "metadata": {},
   "outputs": [
    {
     "name": "stdout",
     "output_type": "stream",
     "text": [
      "   Year     Jan     Feb     Mar     Apr     Maz     Jun     Jul     Aug  \\\n",
      "0  1991    4038    3978    4110    6213    7550    7787    8263    8239   \n",
      "1  1992   13005   12717   15287   15677   17709   19426   19989   19804   \n",
      "2  1993   27763   29162   37146   38319   51034   58917   67047   75032   \n",
      "3  1994  101795  106378  112603  126194  126464  131134  142657  153883   \n",
      "4  1995  170885  173758  182803  199030  199702  205080  218535  230338   \n",
      "\n",
      "      Sep     Oct     Nov     Dec     Yearly Avg  Average wage (RON)  \n",
      "0    9174    9824   10773   11824    7647.750000            0.764775  \n",
      "1   23306   24080   28456   32612   20172.333333            2.017233  \n",
      "2   74723   79732   93020  101331   61102.166667            6.110217  \n",
      "3  153486  160483  167745  198530  140112.666667           14.011267  \n",
      "4  229543  242612  252217  282995  215624.833333           21.562483  \n"
     ]
    }
   ],
   "source": [
    "print(dfs['average_wage'].head())"
   ]
  },
  {
   "cell_type": "code",
   "execution_count": 5,
   "metadata": {},
   "outputs": [
    {
     "name": "stdout",
     "output_type": "stream",
     "text": [
      "   Year  Inflation\n",
      "0  1971      0.006\n",
      "1  1972      0.000\n",
      "2  1973      0.007\n",
      "3  1974      0.011\n",
      "4  1975      0.002\n",
      "   Year     Jan     Feb     Mar     Apr     Maz     Jun     Jul     Aug  \\\n",
      "0  1991    4038    3978    4110    6213    7550    7787    8263    8239   \n",
      "1  1992   13005   12717   15287   15677   17709   19426   19989   19804   \n",
      "2  1993   27763   29162   37146   38319   51034   58917   67047   75032   \n",
      "3  1994  101795  106378  112603  126194  126464  131134  142657  153883   \n",
      "4  1995  170885  173758  182803  199030  199702  205080  218535  230338   \n",
      "\n",
      "      Sep     Oct     Nov     Dec     Yearly Avg  Average wage (RON)  \n",
      "0    9174    9824   10773   11824    7647.750000            0.764775  \n",
      "1   23306   24080   28456   32612   20172.333333            2.017233  \n",
      "2   74723   79732   93020  101331   61102.166667            6.110217  \n",
      "3  153486  160483  167745  198530  140112.666667           14.011267  \n",
      "4  229543  242612  252217  282995  215624.833333           21.562483  \n"
     ]
    }
   ],
   "source": [
    "inflation_df = dfs['inflation']\n",
    "wages_df = dfs['average_wage']\n",
    "\n",
    "print(inflation_df.head())\n",
    "print(wages_df.head())"
   ]
  },
  {
   "cell_type": "code",
   "execution_count": 6,
   "metadata": {},
   "outputs": [
    {
     "name": "stdout",
     "output_type": "stream",
     "text": [
      "   Year  Average wage (RON)\n",
      "0  1991            0.764775\n",
      "1  1992            2.017233\n",
      "2  1993            6.110217\n",
      "3  1994           14.011267\n",
      "4  1995           21.562483\n",
      "   Year  Inflation\n",
      "0  1971      0.006\n",
      "1  1972      0.000\n",
      "2  1973      0.007\n",
      "3  1974      0.011\n",
      "4  1975      0.002\n"
     ]
    }
   ],
   "source": [
    "columns_to_keep = ['Year', 'Average wage (RON)']\n",
    "\n",
    "# Drop all the month columns except 'Year' and 'Average wage (RON)'\n",
    "wages_df = wages_df[columns_to_keep]\n",
    "\n",
    "# Display the updated DataFrame\n",
    "print(wages_df.head())\n",
    "\n",
    "print(inflation_df.head())"
   ]
  },
  {
   "cell_type": "code",
   "execution_count": 7,
   "metadata": {},
   "outputs": [
    {
     "name": "stdout",
     "output_type": "stream",
     "text": [
      "   Year  Average wage (RON)  Inflation\n",
      "0  1991            0.764775      1.702\n",
      "1  1992            2.017233      2.104\n",
      "2  1993            6.110217      2.561\n",
      "3  1994           14.011267      1.367\n",
      "4  1995           21.562483      0.323\n"
     ]
    }
   ],
   "source": [
    "# Merge the two data frame starting with year 1991\n",
    "\n",
    "inflation_df = inflation_df[inflation_df['Year'] >= 1991]\n",
    "\n",
    "merged_df = pd.merge(wages_df, inflation_df, on='Year', how='left')\n",
    "\n",
    "print(merged_df.head())"
   ]
  },
  {
   "cell_type": "code",
   "execution_count": 8,
   "metadata": {},
   "outputs": [
    {
     "name": "stdout",
     "output_type": "stream",
     "text": [
      "   Year  Average wage (RON)  Inflation\n",
      "0  1991            0.764775      1.702\n",
      "1  1992            2.017233      2.104\n",
      "2  1993            6.110217      2.561\n",
      "3  1994           14.011267      1.367\n",
      "4  1995           21.562483      0.323\n"
     ]
    }
   ],
   "source": [
    "# Drop the index column\n",
    "merged_df = merged_df.reset_index(drop=True)\n",
    "\n",
    "# Display the resulting DataFrame\n",
    "print(merged_df.head())"
   ]
  },
  {
   "cell_type": "code",
   "execution_count": 9,
   "metadata": {},
   "outputs": [],
   "source": [
    "# Transform Inflation to %\n",
    "\n",
    "merged_df['Inflation'] = merged_df['Inflation'] * 100"
   ]
  },
  {
   "cell_type": "code",
   "execution_count": 10,
   "metadata": {},
   "outputs": [
    {
     "name": "stdout",
     "output_type": "stream",
     "text": [
      "    Year  Average wage (RON)  Inflation     CPI-1991\n",
      "0   1991            0.764775      170.2     1.000000\n",
      "1   1992            2.017233      210.4     3.104000\n",
      "2   1993            6.110217      256.1    11.053344\n",
      "3   1994           14.011267      136.7    26.163265\n",
      "4   1995           21.562483       32.3    34.614000\n",
      "5   1996           32.198683       38.8    48.044232\n",
      "6   1997           63.682142      154.8   122.416703\n",
      "7   1998          107.389808       59.1   194.764974\n",
      "8   1999          155.473650       45.8   283.967332\n",
      "9   2000          217.347808       45.7   413.740403\n",
      "10  2001          305.359775       34.5   556.480843\n",
      "11  2002          388.117833       22.5   681.689032\n",
      "12  2003          486.810350       15.3   785.987454\n",
      "13  2004          596.528517       11.9   879.519961\n",
      "14  2005          737.833333        9.0   958.676758\n",
      "15  2006          862.000000        6.6  1021.949424\n",
      "16  2007         1042.916667        4.8  1071.002996\n",
      "17  2008         1282.250000        7.9  1155.612233\n",
      "18  2009         1381.083333        5.6  1220.326518\n",
      "19  2010         1406.583333        6.1  1294.766435\n",
      "20  2011         1475.083333        5.8  1369.862888\n",
      "21  2012         1547.416667        3.3  1415.068364\n",
      "22  2013         1622.416667        4.0  1471.671098\n",
      "23  2014         1706.250000        1.1  1487.859480\n",
      "24  2015         1848.250000       -0.6  1478.932324\n",
      "25  2016         2087.750000       -1.5  1456.748339\n",
      "26  2017         2383.583333        1.3  1475.686067\n",
      "27  2018         2695.583333        4.6  1543.567626\n",
      "28  2019         3098.500000        3.8  1602.223196\n",
      "29  2020         3307.166667        2.6  1643.880999\n",
      "30  2021         3543.166667        5.1  1727.718930\n",
      "31  2022         3973.833333       13.8  1966.144142\n",
      "32  2023         4584.166667       10.4  2170.623133\n"
     ]
    },
    {
     "name": "stderr",
     "output_type": "stream",
     "text": [
      "C:\\Users\\Svitlana\\AppData\\Local\\Temp\\ipykernel_35948\\1877031172.py:10: FutureWarning:\n",
      "\n",
      "Setting an item of incompatible dtype is deprecated and will raise an error in a future version of pandas. Value '3.104' has dtype incompatible with int64, please explicitly cast to a compatible dtype first.\n",
      "\n"
     ]
    }
   ],
   "source": [
    "# Set the inflation coefficient to 1 for 1991 and calcult CPI starting from that year\n",
    "merged_df['CPI-1991'] = 0\n",
    "\n",
    "merged_df.loc[0, 'CPI-1991'] = 1\n",
    "\n",
    "# Calculate CPI for subsequent years\n",
    "for i in range(1, len(merged_df)):\n",
    "    inflation = merged_df.loc[i, 'Inflation']\n",
    "    previous_cpi = merged_df.loc[i - 1, 'CPI-1991']\n",
    "    merged_df.loc[i, 'CPI-1991'] = (1 + (inflation / 100)) * previous_cpi\n",
    "    \n",
    "\n",
    "\n",
    "print(merged_df)"
   ]
  },
  {
   "cell_type": "code",
   "execution_count": 11,
   "metadata": {},
   "outputs": [
    {
     "name": "stdout",
     "output_type": "stream",
     "text": [
      "    Year  Average wage (RON)  Inflation     CPI-1991  CPI-2023\n",
      "0   1991            0.764775      170.2     1.000000  0.000461\n",
      "1   1992            2.017233      210.4     3.104000  0.001430\n",
      "2   1993            6.110217      256.1    11.053344  0.005092\n",
      "3   1994           14.011267      136.7    26.163265  0.012053\n",
      "4   1995           21.562483       32.3    34.614000  0.015947\n",
      "5   1996           32.198683       38.8    48.044232  0.022134\n",
      "6   1997           63.682142      154.8   122.416703  0.056397\n",
      "7   1998          107.389808       59.1   194.764974  0.089728\n",
      "8   1999          155.473650       45.8   283.967332  0.130823\n",
      "9   2000          217.347808       45.7   413.740403  0.190609\n",
      "10  2001          305.359775       34.5   556.480843  0.256369\n",
      "11  2002          388.117833       22.5   681.689032  0.314052\n",
      "12  2003          486.810350       15.3   785.987454  0.362102\n",
      "13  2004          596.528517       11.9   879.519961  0.405192\n",
      "14  2005          737.833333        9.0   958.676758  0.441660\n",
      "15  2006          862.000000        6.6  1021.949424  0.470809\n",
      "16  2007         1042.916667        4.8  1071.002996  0.493408\n",
      "17  2008         1282.250000        7.9  1155.612233  0.532387\n",
      "18  2009         1381.083333        5.6  1220.326518  0.562201\n",
      "19  2010         1406.583333        6.1  1294.766435  0.596495\n",
      "20  2011         1475.083333        5.8  1369.862888  0.631092\n",
      "21  2012         1547.416667        3.3  1415.068364  0.651918\n",
      "22  2013         1622.416667        4.0  1471.671098  0.677995\n",
      "23  2014         1706.250000        1.1  1487.859480  0.685453\n",
      "24  2015         1848.250000       -0.6  1478.932324  0.681340\n",
      "25  2016         2087.750000       -1.5  1456.748339  0.671120\n",
      "26  2017         2383.583333        1.3  1475.686067  0.679844\n",
      "27  2018         2695.583333        4.6  1543.567626  0.711117\n",
      "28  2019         3098.500000        3.8  1602.223196  0.738140\n",
      "29  2020         3307.166667        2.6  1643.880999  0.757331\n",
      "30  2021         3543.166667        5.1  1727.718930  0.795955\n",
      "31  2022         3973.833333       13.8  1966.144142  0.905797\n",
      "32  2023         4584.166667       10.4  2170.623133  1.000000\n"
     ]
    },
    {
     "name": "stderr",
     "output_type": "stream",
     "text": [
      "C:\\Users\\Svitlana\\AppData\\Local\\Temp\\ipykernel_35948\\1443100621.py:10: FutureWarning:\n",
      "\n",
      "Setting an item of incompatible dtype is deprecated and will raise an error in a future version of pandas. Value '0.9057971014492753' has dtype incompatible with int64, please explicitly cast to a compatible dtype first.\n",
      "\n"
     ]
    }
   ],
   "source": [
    "# Set the inflation coefficient to 1 for 1991 and calcult CPI starting from that year\n",
    "merged_df['CPI-2023'] = 0\n",
    "\n",
    "merged_df.loc[len(df) -1, 'CPI-2023'] = 1\n",
    "\n",
    "# Calculate CPI for subsequent years\n",
    "for i in range(len(merged_df) - 2, -1, -1):\n",
    "    following_year_cpi = merged_df.loc[i + 1, 'CPI-2023']\n",
    "    inflation_following_year = merged_df.loc[i + 1, 'Inflation']\n",
    "    merged_df.loc[i, 'CPI-2023'] = following_year_cpi / ((1 + inflation_following_year / 100))\n",
    "    \n",
    "\n",
    "\n",
    "print(merged_df)"
   ]
  },
  {
   "cell_type": "code",
   "execution_count": 12,
   "metadata": {},
   "outputs": [
    {
     "name": "stdout",
     "output_type": "stream",
     "text": [
      "    Year  Average wage (RON)  Inflation     CPI-1991  CPI-2023  \\\n",
      "0   1991            0.764775      170.2     1.000000  0.000461   \n",
      "1   1992            2.017233      210.4     3.104000  0.001430   \n",
      "2   1993            6.110217      256.1    11.053344  0.005092   \n",
      "3   1994           14.011267      136.7    26.163265  0.012053   \n",
      "4   1995           21.562483       32.3    34.614000  0.015947   \n",
      "5   1996           32.198683       38.8    48.044232  0.022134   \n",
      "6   1997           63.682142      154.8   122.416703  0.056397   \n",
      "7   1998          107.389808       59.1   194.764974  0.089728   \n",
      "8   1999          155.473650       45.8   283.967332  0.130823   \n",
      "9   2000          217.347808       45.7   413.740403  0.190609   \n",
      "10  2001          305.359775       34.5   556.480843  0.256369   \n",
      "11  2002          388.117833       22.5   681.689032  0.314052   \n",
      "12  2003          486.810350       15.3   785.987454  0.362102   \n",
      "13  2004          596.528517       11.9   879.519961  0.405192   \n",
      "14  2005          737.833333        9.0   958.676758  0.441660   \n",
      "15  2006          862.000000        6.6  1021.949424  0.470809   \n",
      "16  2007         1042.916667        4.8  1071.002996  0.493408   \n",
      "17  2008         1282.250000        7.9  1155.612233  0.532387   \n",
      "18  2009         1381.083333        5.6  1220.326518  0.562201   \n",
      "19  2010         1406.583333        6.1  1294.766435  0.596495   \n",
      "20  2011         1475.083333        5.8  1369.862888  0.631092   \n",
      "21  2012         1547.416667        3.3  1415.068364  0.651918   \n",
      "22  2013         1622.416667        4.0  1471.671098  0.677995   \n",
      "23  2014         1706.250000        1.1  1487.859480  0.685453   \n",
      "24  2015         1848.250000       -0.6  1478.932324  0.681340   \n",
      "25  2016         2087.750000       -1.5  1456.748339  0.671120   \n",
      "26  2017         2383.583333        1.3  1475.686067  0.679844   \n",
      "27  2018         2695.583333        4.6  1543.567626  0.711117   \n",
      "28  2019         3098.500000        3.8  1602.223196  0.738140   \n",
      "29  2020         3307.166667        2.6  1643.880999  0.757331   \n",
      "30  2021         3543.166667        5.1  1727.718930  0.795955   \n",
      "31  2022         3973.833333       13.8  1966.144142  0.905797   \n",
      "32  2023         4584.166667       10.4  2170.623133  1.000000   \n",
      "\n",
      "    Real Average Wage (RON) - 2023 prices  \n",
      "0                                    1660  \n",
      "1                                    1410  \n",
      "2                                    1199  \n",
      "3                                    1162  \n",
      "4                                    1352  \n",
      "5                                    1454  \n",
      "6                                    1129  \n",
      "7                                    1196  \n",
      "8                                    1188  \n",
      "9                                    1140  \n",
      "10                                   1191  \n",
      "11                                   1235  \n",
      "12                                   1344  \n",
      "13                                   1472  \n",
      "14                                   1670  \n",
      "15                                   1830  \n",
      "16                                   2113  \n",
      "17                                   2408  \n",
      "18                                   2456  \n",
      "19                                   2358  \n",
      "20                                   2337  \n",
      "21                                   2373  \n",
      "22                                   2392  \n",
      "23                                   2489  \n",
      "24                                   2712  \n",
      "25                                   3110  \n",
      "26                                   3506  \n",
      "27                                   3790  \n",
      "28                                   4197  \n",
      "29                                   4366  \n",
      "30                                   4451  \n",
      "31                                   4387  \n",
      "32                                   4584  \n"
     ]
    }
   ],
   "source": [
    "#rename merged_df to df\n",
    "\n",
    "df = merged_df\n",
    "\n",
    "\n",
    "# Calculate the percentage change in the 'Average Wage (RON)' column\n",
    "df['Real Average Wage (RON) - 2023 prices'] = df['Average wage (RON)'] / df['CPI-2023']\n",
    "\n",
    "# Calculate the percentage change in the 'Average Wage (RON)' column\n",
    "df['Real Average Wage (RON) - 2023 prices'] = df['Real Average Wage (RON) - 2023 prices'].astype(int)\n",
    "\n",
    "\n",
    "# Display the resulting DataFrame\n",
    "print(df)\n",
    "\n",
    "# Save the resulting DataFrame to a new csv file\n",
    "output_file_path = r'C:\\Users\\Svitlana\\OneDrive\\RoFacts\\mvp\\Data\\real_wage.csv'\n",
    "df.to_csv(output_file_path, index=False)"
   ]
  },
  {
   "cell_type": "code",
   "execution_count": null,
   "metadata": {},
   "outputs": [
    {
     "data": {
      "application/vnd.plotly.v1+json": {
       "config": {
        "plotlyServerURL": "https://plot.ly"
       },
       "data": [
        {
         "hoverinfo": "text",
         "hovertext": [
          "1991: 1660",
          "1992: 1410",
          "1993: 1199",
          "1994: 1162",
          "1995: 1352",
          "1996: 1454",
          "1997: 1129",
          "1998: 1196",
          "1999: 1188",
          "2000: 1140",
          "2001: 1191",
          "2002: 1235",
          "2003: 1344",
          "2004: 1472",
          "2005: 1670 - The average real wage reached the 1991 level for the first time",
          "2006: 1830",
          "2007: 2113",
          "2008: 2408",
          "2009: 2456",
          "2010: 2358",
          "2011: 2337",
          "2012: 2373",
          "2013: 2392",
          "2014: 2489",
          "2015: 2712",
          "2016: 3110",
          "2017: 3506",
          "2018: 3790",
          "2019: 4197",
          "2020: 4366",
          "2021: 4451",
          "2022: 4387",
          "2023: 4584"
         ],
         "line": {
          "color": "#46C07a"
         },
         "mode": "lines+markers",
         "name": "Wage Growth (%)",
         "type": "scatter",
         "x": [
          1991,
          1992,
          1993,
          1994,
          1995,
          1996,
          1997,
          1998,
          1999,
          2000,
          2001,
          2002,
          2003,
          2004,
          2005,
          2006,
          2007,
          2008,
          2009,
          2010,
          2011,
          2012,
          2013,
          2014,
          2015,
          2016,
          2017,
          2018,
          2019,
          2020,
          2021,
          2022,
          2023
         ],
         "y": [
          1660,
          1410,
          1199,
          1162,
          1352,
          1454,
          1129,
          1196,
          1188,
          1140,
          1191,
          1235,
          1344,
          1472,
          1670,
          1830,
          2113,
          2408,
          2456,
          2358,
          2337,
          2373,
          2392,
          2489,
          2712,
          3110,
          3506,
          3790,
          4197,
          4366,
          4451,
          4387,
          4584
         ]
        }
       ],
       "layout": {
        "annotations": [
         {
          "arrowcolor": "#FC8553",
          "arrowhead": 2,
          "arrowsize": 1,
          "arrowwidth": 2,
          "ax": -200,
          "ay": -200,
          "font": {
           "color": "black",
           "size": 12
          },
          "showarrow": true,
          "text": "The average real wage reached the 1991 level",
          "x": 2005,
          "y": 1670
         }
        ],
        "paper_bgcolor": "#F8EFDE",
        "plot_bgcolor": "#F8EFDE",
        "template": {
         "data": {
          "bar": [
           {
            "error_x": {
             "color": "#2a3f5f"
            },
            "error_y": {
             "color": "#2a3f5f"
            },
            "marker": {
             "line": {
              "color": "#E5ECF6",
              "width": 0.5
             },
             "pattern": {
              "fillmode": "overlay",
              "size": 10,
              "solidity": 0.2
             }
            },
            "type": "bar"
           }
          ],
          "barpolar": [
           {
            "marker": {
             "line": {
              "color": "#E5ECF6",
              "width": 0.5
             },
             "pattern": {
              "fillmode": "overlay",
              "size": 10,
              "solidity": 0.2
             }
            },
            "type": "barpolar"
           }
          ],
          "carpet": [
           {
            "aaxis": {
             "endlinecolor": "#2a3f5f",
             "gridcolor": "white",
             "linecolor": "white",
             "minorgridcolor": "white",
             "startlinecolor": "#2a3f5f"
            },
            "baxis": {
             "endlinecolor": "#2a3f5f",
             "gridcolor": "white",
             "linecolor": "white",
             "minorgridcolor": "white",
             "startlinecolor": "#2a3f5f"
            },
            "type": "carpet"
           }
          ],
          "choropleth": [
           {
            "colorbar": {
             "outlinewidth": 0,
             "ticks": ""
            },
            "type": "choropleth"
           }
          ],
          "contour": [
           {
            "colorbar": {
             "outlinewidth": 0,
             "ticks": ""
            },
            "colorscale": [
             [
              0,
              "#0d0887"
             ],
             [
              0.1111111111111111,
              "#46039f"
             ],
             [
              0.2222222222222222,
              "#7201a8"
             ],
             [
              0.3333333333333333,
              "#9c179e"
             ],
             [
              0.4444444444444444,
              "#bd3786"
             ],
             [
              0.5555555555555556,
              "#d8576b"
             ],
             [
              0.6666666666666666,
              "#ed7953"
             ],
             [
              0.7777777777777778,
              "#fb9f3a"
             ],
             [
              0.8888888888888888,
              "#fdca26"
             ],
             [
              1,
              "#f0f921"
             ]
            ],
            "type": "contour"
           }
          ],
          "contourcarpet": [
           {
            "colorbar": {
             "outlinewidth": 0,
             "ticks": ""
            },
            "type": "contourcarpet"
           }
          ],
          "heatmap": [
           {
            "colorbar": {
             "outlinewidth": 0,
             "ticks": ""
            },
            "colorscale": [
             [
              0,
              "#0d0887"
             ],
             [
              0.1111111111111111,
              "#46039f"
             ],
             [
              0.2222222222222222,
              "#7201a8"
             ],
             [
              0.3333333333333333,
              "#9c179e"
             ],
             [
              0.4444444444444444,
              "#bd3786"
             ],
             [
              0.5555555555555556,
              "#d8576b"
             ],
             [
              0.6666666666666666,
              "#ed7953"
             ],
             [
              0.7777777777777778,
              "#fb9f3a"
             ],
             [
              0.8888888888888888,
              "#fdca26"
             ],
             [
              1,
              "#f0f921"
             ]
            ],
            "type": "heatmap"
           }
          ],
          "heatmapgl": [
           {
            "colorbar": {
             "outlinewidth": 0,
             "ticks": ""
            },
            "colorscale": [
             [
              0,
              "#0d0887"
             ],
             [
              0.1111111111111111,
              "#46039f"
             ],
             [
              0.2222222222222222,
              "#7201a8"
             ],
             [
              0.3333333333333333,
              "#9c179e"
             ],
             [
              0.4444444444444444,
              "#bd3786"
             ],
             [
              0.5555555555555556,
              "#d8576b"
             ],
             [
              0.6666666666666666,
              "#ed7953"
             ],
             [
              0.7777777777777778,
              "#fb9f3a"
             ],
             [
              0.8888888888888888,
              "#fdca26"
             ],
             [
              1,
              "#f0f921"
             ]
            ],
            "type": "heatmapgl"
           }
          ],
          "histogram": [
           {
            "marker": {
             "pattern": {
              "fillmode": "overlay",
              "size": 10,
              "solidity": 0.2
             }
            },
            "type": "histogram"
           }
          ],
          "histogram2d": [
           {
            "colorbar": {
             "outlinewidth": 0,
             "ticks": ""
            },
            "colorscale": [
             [
              0,
              "#0d0887"
             ],
             [
              0.1111111111111111,
              "#46039f"
             ],
             [
              0.2222222222222222,
              "#7201a8"
             ],
             [
              0.3333333333333333,
              "#9c179e"
             ],
             [
              0.4444444444444444,
              "#bd3786"
             ],
             [
              0.5555555555555556,
              "#d8576b"
             ],
             [
              0.6666666666666666,
              "#ed7953"
             ],
             [
              0.7777777777777778,
              "#fb9f3a"
             ],
             [
              0.8888888888888888,
              "#fdca26"
             ],
             [
              1,
              "#f0f921"
             ]
            ],
            "type": "histogram2d"
           }
          ],
          "histogram2dcontour": [
           {
            "colorbar": {
             "outlinewidth": 0,
             "ticks": ""
            },
            "colorscale": [
             [
              0,
              "#0d0887"
             ],
             [
              0.1111111111111111,
              "#46039f"
             ],
             [
              0.2222222222222222,
              "#7201a8"
             ],
             [
              0.3333333333333333,
              "#9c179e"
             ],
             [
              0.4444444444444444,
              "#bd3786"
             ],
             [
              0.5555555555555556,
              "#d8576b"
             ],
             [
              0.6666666666666666,
              "#ed7953"
             ],
             [
              0.7777777777777778,
              "#fb9f3a"
             ],
             [
              0.8888888888888888,
              "#fdca26"
             ],
             [
              1,
              "#f0f921"
             ]
            ],
            "type": "histogram2dcontour"
           }
          ],
          "mesh3d": [
           {
            "colorbar": {
             "outlinewidth": 0,
             "ticks": ""
            },
            "type": "mesh3d"
           }
          ],
          "parcoords": [
           {
            "line": {
             "colorbar": {
              "outlinewidth": 0,
              "ticks": ""
             }
            },
            "type": "parcoords"
           }
          ],
          "pie": [
           {
            "automargin": true,
            "type": "pie"
           }
          ],
          "scatter": [
           {
            "fillpattern": {
             "fillmode": "overlay",
             "size": 10,
             "solidity": 0.2
            },
            "type": "scatter"
           }
          ],
          "scatter3d": [
           {
            "line": {
             "colorbar": {
              "outlinewidth": 0,
              "ticks": ""
             }
            },
            "marker": {
             "colorbar": {
              "outlinewidth": 0,
              "ticks": ""
             }
            },
            "type": "scatter3d"
           }
          ],
          "scattercarpet": [
           {
            "marker": {
             "colorbar": {
              "outlinewidth": 0,
              "ticks": ""
             }
            },
            "type": "scattercarpet"
           }
          ],
          "scattergeo": [
           {
            "marker": {
             "colorbar": {
              "outlinewidth": 0,
              "ticks": ""
             }
            },
            "type": "scattergeo"
           }
          ],
          "scattergl": [
           {
            "marker": {
             "colorbar": {
              "outlinewidth": 0,
              "ticks": ""
             }
            },
            "type": "scattergl"
           }
          ],
          "scattermapbox": [
           {
            "marker": {
             "colorbar": {
              "outlinewidth": 0,
              "ticks": ""
             }
            },
            "type": "scattermapbox"
           }
          ],
          "scatterpolar": [
           {
            "marker": {
             "colorbar": {
              "outlinewidth": 0,
              "ticks": ""
             }
            },
            "type": "scatterpolar"
           }
          ],
          "scatterpolargl": [
           {
            "marker": {
             "colorbar": {
              "outlinewidth": 0,
              "ticks": ""
             }
            },
            "type": "scatterpolargl"
           }
          ],
          "scatterternary": [
           {
            "marker": {
             "colorbar": {
              "outlinewidth": 0,
              "ticks": ""
             }
            },
            "type": "scatterternary"
           }
          ],
          "surface": [
           {
            "colorbar": {
             "outlinewidth": 0,
             "ticks": ""
            },
            "colorscale": [
             [
              0,
              "#0d0887"
             ],
             [
              0.1111111111111111,
              "#46039f"
             ],
             [
              0.2222222222222222,
              "#7201a8"
             ],
             [
              0.3333333333333333,
              "#9c179e"
             ],
             [
              0.4444444444444444,
              "#bd3786"
             ],
             [
              0.5555555555555556,
              "#d8576b"
             ],
             [
              0.6666666666666666,
              "#ed7953"
             ],
             [
              0.7777777777777778,
              "#fb9f3a"
             ],
             [
              0.8888888888888888,
              "#fdca26"
             ],
             [
              1,
              "#f0f921"
             ]
            ],
            "type": "surface"
           }
          ],
          "table": [
           {
            "cells": {
             "fill": {
              "color": "#EBF0F8"
             },
             "line": {
              "color": "white"
             }
            },
            "header": {
             "fill": {
              "color": "#C8D4E3"
             },
             "line": {
              "color": "white"
             }
            },
            "type": "table"
           }
          ]
         },
         "layout": {
          "annotationdefaults": {
           "arrowcolor": "#2a3f5f",
           "arrowhead": 0,
           "arrowwidth": 1
          },
          "autotypenumbers": "strict",
          "coloraxis": {
           "colorbar": {
            "outlinewidth": 0,
            "ticks": ""
           }
          },
          "colorscale": {
           "diverging": [
            [
             0,
             "#8e0152"
            ],
            [
             0.1,
             "#c51b7d"
            ],
            [
             0.2,
             "#de77ae"
            ],
            [
             0.3,
             "#f1b6da"
            ],
            [
             0.4,
             "#fde0ef"
            ],
            [
             0.5,
             "#f7f7f7"
            ],
            [
             0.6,
             "#e6f5d0"
            ],
            [
             0.7,
             "#b8e186"
            ],
            [
             0.8,
             "#7fbc41"
            ],
            [
             0.9,
             "#4d9221"
            ],
            [
             1,
             "#276419"
            ]
           ],
           "sequential": [
            [
             0,
             "#0d0887"
            ],
            [
             0.1111111111111111,
             "#46039f"
            ],
            [
             0.2222222222222222,
             "#7201a8"
            ],
            [
             0.3333333333333333,
             "#9c179e"
            ],
            [
             0.4444444444444444,
             "#bd3786"
            ],
            [
             0.5555555555555556,
             "#d8576b"
            ],
            [
             0.6666666666666666,
             "#ed7953"
            ],
            [
             0.7777777777777778,
             "#fb9f3a"
            ],
            [
             0.8888888888888888,
             "#fdca26"
            ],
            [
             1,
             "#f0f921"
            ]
           ],
           "sequentialminus": [
            [
             0,
             "#0d0887"
            ],
            [
             0.1111111111111111,
             "#46039f"
            ],
            [
             0.2222222222222222,
             "#7201a8"
            ],
            [
             0.3333333333333333,
             "#9c179e"
            ],
            [
             0.4444444444444444,
             "#bd3786"
            ],
            [
             0.5555555555555556,
             "#d8576b"
            ],
            [
             0.6666666666666666,
             "#ed7953"
            ],
            [
             0.7777777777777778,
             "#fb9f3a"
            ],
            [
             0.8888888888888888,
             "#fdca26"
            ],
            [
             1,
             "#f0f921"
            ]
           ]
          },
          "colorway": [
           "#636efa",
           "#EF553B",
           "#00cc96",
           "#ab63fa",
           "#FFA15A",
           "#19d3f3",
           "#FF6692",
           "#B6E880",
           "#FF97FF",
           "#FECB52"
          ],
          "font": {
           "color": "#2a3f5f"
          },
          "geo": {
           "bgcolor": "white",
           "lakecolor": "white",
           "landcolor": "#E5ECF6",
           "showlakes": true,
           "showland": true,
           "subunitcolor": "white"
          },
          "hoverlabel": {
           "align": "left"
          },
          "hovermode": "closest",
          "mapbox": {
           "style": "light"
          },
          "paper_bgcolor": "white",
          "plot_bgcolor": "#E5ECF6",
          "polar": {
           "angularaxis": {
            "gridcolor": "white",
            "linecolor": "white",
            "ticks": ""
           },
           "bgcolor": "#E5ECF6",
           "radialaxis": {
            "gridcolor": "white",
            "linecolor": "white",
            "ticks": ""
           }
          },
          "scene": {
           "xaxis": {
            "backgroundcolor": "#E5ECF6",
            "gridcolor": "white",
            "gridwidth": 2,
            "linecolor": "white",
            "showbackground": true,
            "ticks": "",
            "zerolinecolor": "white"
           },
           "yaxis": {
            "backgroundcolor": "#E5ECF6",
            "gridcolor": "white",
            "gridwidth": 2,
            "linecolor": "white",
            "showbackground": true,
            "ticks": "",
            "zerolinecolor": "white"
           },
           "zaxis": {
            "backgroundcolor": "#E5ECF6",
            "gridcolor": "white",
            "gridwidth": 2,
            "linecolor": "white",
            "showbackground": true,
            "ticks": "",
            "zerolinecolor": "white"
           }
          },
          "shapedefaults": {
           "line": {
            "color": "#2a3f5f"
           }
          },
          "ternary": {
           "aaxis": {
            "gridcolor": "white",
            "linecolor": "white",
            "ticks": ""
           },
           "baxis": {
            "gridcolor": "white",
            "linecolor": "white",
            "ticks": ""
           },
           "bgcolor": "#E5ECF6",
           "caxis": {
            "gridcolor": "white",
            "linecolor": "white",
            "ticks": ""
           }
          },
          "title": {
           "x": 0.05
          },
          "xaxis": {
           "automargin": true,
           "gridcolor": "white",
           "linecolor": "white",
           "ticks": "",
           "title": {
            "standoff": 15
           },
           "zerolinecolor": "white",
           "zerolinewidth": 2
          },
          "yaxis": {
           "automargin": true,
           "gridcolor": "white",
           "linecolor": "white",
           "ticks": "",
           "title": {
            "standoff": 15
           },
           "zerolinecolor": "white",
           "zerolinewidth": 2
          }
         }
        },
        "title": {
         "text": "Real average wage (1991-2023)"
        },
        "xaxis": {
         "dtick": 2,
         "title": {
          "text": "Year"
         }
        },
        "yaxis": {
         "tickformat": ".",
         "title": {
          "text": "Amount (RON)"
         }
        }
       }
      }
     },
     "metadata": {},
     "output_type": "display_data"
    }
   ],
   "source": [
    "import plotly.graph_objects as go\n",
    "\n",
    "# Define background color\n",
    "color_background = '#F8EFDE'\n",
    "color_wage = '#46C07a'\n",
    "color_arrow = '#c46e6e'\n",
    "\n",
    "# Assuming 'merged_df' is your DataFrame with the required columns\n",
    "\n",
    "# Create a figure\n",
    "fig = go.Figure()\n",
    "\n",
    "# Add a line trace for Wage Growth\n",
    "fig.add_trace(go.Scatter(x=merged_df['Year'], y=merged_df['Real Average Wage (RON) - 2023 prices'],\n",
    "                         mode='lines+markers',\n",
    "                         name='Wage Growth (%)',\n",
    "                         line=dict(color=color_wage)))\n",
    "\n",
    "\n",
    "# Add annotation for the important event\n",
    "fig.add_annotation(x=2005, y=merged_df.loc[merged_df['Year'] == 2005, 'Real Average Wage (RON) - 2023 prices'].iloc[0],\n",
    "                   text=\"The average real wage reached the 1991 level\", showarrow=True,\n",
    "                   font=dict(color= \"black\", size=12),\n",
    "                   arrowhead=2, arrowsize=1, arrowwidth=2, arrowcolor=color_arrow,\n",
    "                   ax=-200, ay=-200)\n",
    "\n",
    "# Update layout\n",
    "fig.update_layout(\n",
    "    title='Real average wage (1991-2023)',\n",
    "    xaxis_title='Year',\n",
    "    yaxis_title='Amount (RON)',\n",
    "    plot_bgcolor=color_background,\n",
    "    paper_bgcolor=color_background,\n",
    "    xaxis=dict(\n",
    "        dtick=2\n",
    "    ),  # Adjust the tick frequency here (e.g., 1 for every year)\n",
    "    yaxis=dict(\n",
    "        tickformat='.',  # Add thousands separator to y-axis\n",
    "    )\n",
    ")\n",
    "\n",
    "# Add custom hover text for the point corresponding to 2005\n",
    "hover_text = [f'{year}: {int(wage)}' + (' - The average real wage reached the 1991 level for the first time' if year == 2005 else '') for year, wage in zip(df['Year'], df['Real Average Wage (RON) - 2023 prices'])]\n",
    "\n",
    "# Update hover text\n",
    "fig.update_traces(hovertext=hover_text, hoverinfo='text')\n",
    "# Show the plot\n",
    "fig.show()\n"
   ]
  },
  {
   "cell_type": "code",
   "execution_count": null,
   "metadata": {},
   "outputs": [
    {
     "name": "stdout",
     "output_type": "stream",
     "text": [
      "   Year  Average wage (RON)  Inflation   CPI-1991  CPI-2023  \\\n",
      "0  1991            0.764775      170.2   1.000000  0.000461   \n",
      "1  1992            2.017233      210.4   3.104000  0.001430   \n",
      "2  1993            6.110217      256.1  11.053344  0.005092   \n",
      "3  1994           14.011267      136.7  26.163265  0.012053   \n",
      "4  1995           21.562483       32.3  34.614000  0.015947   \n",
      "\n",
      "   Real Average Wage (RON) - 2023 prices  Real Average Wage % change  \n",
      "0                                   1660                         NaN  \n",
      "1                                   1410                      -15.06  \n",
      "2                                   1199                      -14.96  \n",
      "3                                   1162                       -3.09  \n",
      "4                                   1352                       16.35  \n"
     ]
    },
    {
     "data": {
      "application/vnd.plotly.v1+json": {
       "config": {
        "plotlyServerURL": "https://plot.ly"
       },
       "data": [
        {
         "hoverinfo": "text",
         "hovertext": [
          "nan%",
          "-15.06%",
          "-14.96%",
          "-3.09%",
          "16.35%",
          "7.54%",
          "-22.35%",
          "5.93%",
          "-0.67%",
          "-4.04%",
          "4.47%",
          "3.69%",
          "8.83%",
          "9.52%",
          "13.45%",
          "9.58%",
          "15.46%",
          "13.96%",
          "1.99%",
          "-3.99%",
          "-0.89%",
          "1.54%",
          "0.80%",
          "4.06%",
          "8.96%",
          "14.68%",
          "12.73%",
          "8.10%",
          "10.74%",
          "4.03%",
          "1.95%",
          "-1.44%",
          "4.49%"
         ],
         "marker": {
          "color": [
           "#FF5733",
           "#FF5733",
           "#FF5733",
           "#FF5733",
           "#46C07a",
           "#46C07a",
           "#FF5733",
           "#46C07a",
           "#FF5733",
           "#FF5733",
           "#46C07a",
           "#46C07a",
           "#46C07a",
           "#46C07a",
           "#46C07a",
           "#46C07a",
           "#46C07a",
           "#46C07a",
           "#46C07a",
           "#FF5733",
           "#FF5733",
           "#46C07a",
           "#46C07a",
           "#46C07a",
           "#46C07a",
           "#46C07a",
           "#46C07a",
           "#46C07a",
           "#46C07a",
           "#46C07a",
           "#46C07a",
           "#FF5733",
           "#46C07a"
          ]
         },
         "name": "Real Wage (%)",
         "type": "bar",
         "x": [
          1991,
          1992,
          1993,
          1994,
          1995,
          1996,
          1997,
          1998,
          1999,
          2000,
          2001,
          2002,
          2003,
          2004,
          2005,
          2006,
          2007,
          2008,
          2009,
          2010,
          2011,
          2012,
          2013,
          2014,
          2015,
          2016,
          2017,
          2018,
          2019,
          2020,
          2021,
          2022,
          2023
         ],
         "y": [
          null,
          -15.06,
          -14.96,
          -3.09,
          16.35,
          7.54,
          -22.35,
          5.93,
          -0.67,
          -4.04,
          4.47,
          3.69,
          8.83,
          9.52,
          13.45,
          9.58,
          15.46,
          13.96,
          1.99,
          -3.99,
          -0.89,
          1.54,
          0.8,
          4.06,
          8.96,
          14.68,
          12.73,
          8.1,
          10.74,
          4.03,
          1.95,
          -1.44,
          4.49
         ]
        }
       ],
       "layout": {
        "paper_bgcolor": "#F8EFDE",
        "plot_bgcolor": "#F8EFDE",
        "template": {
         "data": {
          "bar": [
           {
            "error_x": {
             "color": "#2a3f5f"
            },
            "error_y": {
             "color": "#2a3f5f"
            },
            "marker": {
             "line": {
              "color": "#E5ECF6",
              "width": 0.5
             },
             "pattern": {
              "fillmode": "overlay",
              "size": 10,
              "solidity": 0.2
             }
            },
            "type": "bar"
           }
          ],
          "barpolar": [
           {
            "marker": {
             "line": {
              "color": "#E5ECF6",
              "width": 0.5
             },
             "pattern": {
              "fillmode": "overlay",
              "size": 10,
              "solidity": 0.2
             }
            },
            "type": "barpolar"
           }
          ],
          "carpet": [
           {
            "aaxis": {
             "endlinecolor": "#2a3f5f",
             "gridcolor": "white",
             "linecolor": "white",
             "minorgridcolor": "white",
             "startlinecolor": "#2a3f5f"
            },
            "baxis": {
             "endlinecolor": "#2a3f5f",
             "gridcolor": "white",
             "linecolor": "white",
             "minorgridcolor": "white",
             "startlinecolor": "#2a3f5f"
            },
            "type": "carpet"
           }
          ],
          "choropleth": [
           {
            "colorbar": {
             "outlinewidth": 0,
             "ticks": ""
            },
            "type": "choropleth"
           }
          ],
          "contour": [
           {
            "colorbar": {
             "outlinewidth": 0,
             "ticks": ""
            },
            "colorscale": [
             [
              0,
              "#0d0887"
             ],
             [
              0.1111111111111111,
              "#46039f"
             ],
             [
              0.2222222222222222,
              "#7201a8"
             ],
             [
              0.3333333333333333,
              "#9c179e"
             ],
             [
              0.4444444444444444,
              "#bd3786"
             ],
             [
              0.5555555555555556,
              "#d8576b"
             ],
             [
              0.6666666666666666,
              "#ed7953"
             ],
             [
              0.7777777777777778,
              "#fb9f3a"
             ],
             [
              0.8888888888888888,
              "#fdca26"
             ],
             [
              1,
              "#f0f921"
             ]
            ],
            "type": "contour"
           }
          ],
          "contourcarpet": [
           {
            "colorbar": {
             "outlinewidth": 0,
             "ticks": ""
            },
            "type": "contourcarpet"
           }
          ],
          "heatmap": [
           {
            "colorbar": {
             "outlinewidth": 0,
             "ticks": ""
            },
            "colorscale": [
             [
              0,
              "#0d0887"
             ],
             [
              0.1111111111111111,
              "#46039f"
             ],
             [
              0.2222222222222222,
              "#7201a8"
             ],
             [
              0.3333333333333333,
              "#9c179e"
             ],
             [
              0.4444444444444444,
              "#bd3786"
             ],
             [
              0.5555555555555556,
              "#d8576b"
             ],
             [
              0.6666666666666666,
              "#ed7953"
             ],
             [
              0.7777777777777778,
              "#fb9f3a"
             ],
             [
              0.8888888888888888,
              "#fdca26"
             ],
             [
              1,
              "#f0f921"
             ]
            ],
            "type": "heatmap"
           }
          ],
          "heatmapgl": [
           {
            "colorbar": {
             "outlinewidth": 0,
             "ticks": ""
            },
            "colorscale": [
             [
              0,
              "#0d0887"
             ],
             [
              0.1111111111111111,
              "#46039f"
             ],
             [
              0.2222222222222222,
              "#7201a8"
             ],
             [
              0.3333333333333333,
              "#9c179e"
             ],
             [
              0.4444444444444444,
              "#bd3786"
             ],
             [
              0.5555555555555556,
              "#d8576b"
             ],
             [
              0.6666666666666666,
              "#ed7953"
             ],
             [
              0.7777777777777778,
              "#fb9f3a"
             ],
             [
              0.8888888888888888,
              "#fdca26"
             ],
             [
              1,
              "#f0f921"
             ]
            ],
            "type": "heatmapgl"
           }
          ],
          "histogram": [
           {
            "marker": {
             "pattern": {
              "fillmode": "overlay",
              "size": 10,
              "solidity": 0.2
             }
            },
            "type": "histogram"
           }
          ],
          "histogram2d": [
           {
            "colorbar": {
             "outlinewidth": 0,
             "ticks": ""
            },
            "colorscale": [
             [
              0,
              "#0d0887"
             ],
             [
              0.1111111111111111,
              "#46039f"
             ],
             [
              0.2222222222222222,
              "#7201a8"
             ],
             [
              0.3333333333333333,
              "#9c179e"
             ],
             [
              0.4444444444444444,
              "#bd3786"
             ],
             [
              0.5555555555555556,
              "#d8576b"
             ],
             [
              0.6666666666666666,
              "#ed7953"
             ],
             [
              0.7777777777777778,
              "#fb9f3a"
             ],
             [
              0.8888888888888888,
              "#fdca26"
             ],
             [
              1,
              "#f0f921"
             ]
            ],
            "type": "histogram2d"
           }
          ],
          "histogram2dcontour": [
           {
            "colorbar": {
             "outlinewidth": 0,
             "ticks": ""
            },
            "colorscale": [
             [
              0,
              "#0d0887"
             ],
             [
              0.1111111111111111,
              "#46039f"
             ],
             [
              0.2222222222222222,
              "#7201a8"
             ],
             [
              0.3333333333333333,
              "#9c179e"
             ],
             [
              0.4444444444444444,
              "#bd3786"
             ],
             [
              0.5555555555555556,
              "#d8576b"
             ],
             [
              0.6666666666666666,
              "#ed7953"
             ],
             [
              0.7777777777777778,
              "#fb9f3a"
             ],
             [
              0.8888888888888888,
              "#fdca26"
             ],
             [
              1,
              "#f0f921"
             ]
            ],
            "type": "histogram2dcontour"
           }
          ],
          "mesh3d": [
           {
            "colorbar": {
             "outlinewidth": 0,
             "ticks": ""
            },
            "type": "mesh3d"
           }
          ],
          "parcoords": [
           {
            "line": {
             "colorbar": {
              "outlinewidth": 0,
              "ticks": ""
             }
            },
            "type": "parcoords"
           }
          ],
          "pie": [
           {
            "automargin": true,
            "type": "pie"
           }
          ],
          "scatter": [
           {
            "fillpattern": {
             "fillmode": "overlay",
             "size": 10,
             "solidity": 0.2
            },
            "type": "scatter"
           }
          ],
          "scatter3d": [
           {
            "line": {
             "colorbar": {
              "outlinewidth": 0,
              "ticks": ""
             }
            },
            "marker": {
             "colorbar": {
              "outlinewidth": 0,
              "ticks": ""
             }
            },
            "type": "scatter3d"
           }
          ],
          "scattercarpet": [
           {
            "marker": {
             "colorbar": {
              "outlinewidth": 0,
              "ticks": ""
             }
            },
            "type": "scattercarpet"
           }
          ],
          "scattergeo": [
           {
            "marker": {
             "colorbar": {
              "outlinewidth": 0,
              "ticks": ""
             }
            },
            "type": "scattergeo"
           }
          ],
          "scattergl": [
           {
            "marker": {
             "colorbar": {
              "outlinewidth": 0,
              "ticks": ""
             }
            },
            "type": "scattergl"
           }
          ],
          "scattermapbox": [
           {
            "marker": {
             "colorbar": {
              "outlinewidth": 0,
              "ticks": ""
             }
            },
            "type": "scattermapbox"
           }
          ],
          "scatterpolar": [
           {
            "marker": {
             "colorbar": {
              "outlinewidth": 0,
              "ticks": ""
             }
            },
            "type": "scatterpolar"
           }
          ],
          "scatterpolargl": [
           {
            "marker": {
             "colorbar": {
              "outlinewidth": 0,
              "ticks": ""
             }
            },
            "type": "scatterpolargl"
           }
          ],
          "scatterternary": [
           {
            "marker": {
             "colorbar": {
              "outlinewidth": 0,
              "ticks": ""
             }
            },
            "type": "scatterternary"
           }
          ],
          "surface": [
           {
            "colorbar": {
             "outlinewidth": 0,
             "ticks": ""
            },
            "colorscale": [
             [
              0,
              "#0d0887"
             ],
             [
              0.1111111111111111,
              "#46039f"
             ],
             [
              0.2222222222222222,
              "#7201a8"
             ],
             [
              0.3333333333333333,
              "#9c179e"
             ],
             [
              0.4444444444444444,
              "#bd3786"
             ],
             [
              0.5555555555555556,
              "#d8576b"
             ],
             [
              0.6666666666666666,
              "#ed7953"
             ],
             [
              0.7777777777777778,
              "#fb9f3a"
             ],
             [
              0.8888888888888888,
              "#fdca26"
             ],
             [
              1,
              "#f0f921"
             ]
            ],
            "type": "surface"
           }
          ],
          "table": [
           {
            "cells": {
             "fill": {
              "color": "#EBF0F8"
             },
             "line": {
              "color": "white"
             }
            },
            "header": {
             "fill": {
              "color": "#C8D4E3"
             },
             "line": {
              "color": "white"
             }
            },
            "type": "table"
           }
          ]
         },
         "layout": {
          "annotationdefaults": {
           "arrowcolor": "#2a3f5f",
           "arrowhead": 0,
           "arrowwidth": 1
          },
          "autotypenumbers": "strict",
          "coloraxis": {
           "colorbar": {
            "outlinewidth": 0,
            "ticks": ""
           }
          },
          "colorscale": {
           "diverging": [
            [
             0,
             "#8e0152"
            ],
            [
             0.1,
             "#c51b7d"
            ],
            [
             0.2,
             "#de77ae"
            ],
            [
             0.3,
             "#f1b6da"
            ],
            [
             0.4,
             "#fde0ef"
            ],
            [
             0.5,
             "#f7f7f7"
            ],
            [
             0.6,
             "#e6f5d0"
            ],
            [
             0.7,
             "#b8e186"
            ],
            [
             0.8,
             "#7fbc41"
            ],
            [
             0.9,
             "#4d9221"
            ],
            [
             1,
             "#276419"
            ]
           ],
           "sequential": [
            [
             0,
             "#0d0887"
            ],
            [
             0.1111111111111111,
             "#46039f"
            ],
            [
             0.2222222222222222,
             "#7201a8"
            ],
            [
             0.3333333333333333,
             "#9c179e"
            ],
            [
             0.4444444444444444,
             "#bd3786"
            ],
            [
             0.5555555555555556,
             "#d8576b"
            ],
            [
             0.6666666666666666,
             "#ed7953"
            ],
            [
             0.7777777777777778,
             "#fb9f3a"
            ],
            [
             0.8888888888888888,
             "#fdca26"
            ],
            [
             1,
             "#f0f921"
            ]
           ],
           "sequentialminus": [
            [
             0,
             "#0d0887"
            ],
            [
             0.1111111111111111,
             "#46039f"
            ],
            [
             0.2222222222222222,
             "#7201a8"
            ],
            [
             0.3333333333333333,
             "#9c179e"
            ],
            [
             0.4444444444444444,
             "#bd3786"
            ],
            [
             0.5555555555555556,
             "#d8576b"
            ],
            [
             0.6666666666666666,
             "#ed7953"
            ],
            [
             0.7777777777777778,
             "#fb9f3a"
            ],
            [
             0.8888888888888888,
             "#fdca26"
            ],
            [
             1,
             "#f0f921"
            ]
           ]
          },
          "colorway": [
           "#636efa",
           "#EF553B",
           "#00cc96",
           "#ab63fa",
           "#FFA15A",
           "#19d3f3",
           "#FF6692",
           "#B6E880",
           "#FF97FF",
           "#FECB52"
          ],
          "font": {
           "color": "#2a3f5f"
          },
          "geo": {
           "bgcolor": "white",
           "lakecolor": "white",
           "landcolor": "#E5ECF6",
           "showlakes": true,
           "showland": true,
           "subunitcolor": "white"
          },
          "hoverlabel": {
           "align": "left"
          },
          "hovermode": "closest",
          "mapbox": {
           "style": "light"
          },
          "paper_bgcolor": "white",
          "plot_bgcolor": "#E5ECF6",
          "polar": {
           "angularaxis": {
            "gridcolor": "white",
            "linecolor": "white",
            "ticks": ""
           },
           "bgcolor": "#E5ECF6",
           "radialaxis": {
            "gridcolor": "white",
            "linecolor": "white",
            "ticks": ""
           }
          },
          "scene": {
           "xaxis": {
            "backgroundcolor": "#E5ECF6",
            "gridcolor": "white",
            "gridwidth": 2,
            "linecolor": "white",
            "showbackground": true,
            "ticks": "",
            "zerolinecolor": "white"
           },
           "yaxis": {
            "backgroundcolor": "#E5ECF6",
            "gridcolor": "white",
            "gridwidth": 2,
            "linecolor": "white",
            "showbackground": true,
            "ticks": "",
            "zerolinecolor": "white"
           },
           "zaxis": {
            "backgroundcolor": "#E5ECF6",
            "gridcolor": "white",
            "gridwidth": 2,
            "linecolor": "white",
            "showbackground": true,
            "ticks": "",
            "zerolinecolor": "white"
           }
          },
          "shapedefaults": {
           "line": {
            "color": "#2a3f5f"
           }
          },
          "ternary": {
           "aaxis": {
            "gridcolor": "white",
            "linecolor": "white",
            "ticks": ""
           },
           "baxis": {
            "gridcolor": "white",
            "linecolor": "white",
            "ticks": ""
           },
           "bgcolor": "#E5ECF6",
           "caxis": {
            "gridcolor": "white",
            "linecolor": "white",
            "ticks": ""
           }
          },
          "title": {
           "x": 0.05
          },
          "xaxis": {
           "automargin": true,
           "gridcolor": "white",
           "linecolor": "white",
           "ticks": "",
           "title": {
            "standoff": 15
           },
           "zerolinecolor": "white",
           "zerolinewidth": 2
          },
          "yaxis": {
           "automargin": true,
           "gridcolor": "white",
           "linecolor": "white",
           "ticks": "",
           "title": {
            "standoff": 15
           },
           "zerolinecolor": "white",
           "zerolinewidth": 2
          }
         }
        },
        "title": {
         "text": "Real Average Wage % (1992-2023)"
        },
        "xaxis": {
         "dtick": 2,
         "title": {
          "text": "Year"
         }
        },
        "yaxis": {
         "title": {
          "text": "% change"
         }
        }
       }
      }
     },
     "metadata": {},
     "output_type": "display_data"
    }
   ],
   "source": [
    "\n",
    "# Calculate percentage change\n",
    "df['Real Average Wage % change'] = df['Real Average Wage (RON) - 2023 prices'].pct_change() * 100\n",
    "\n",
    "# Drop the NaN value in the first row (since there's no previous year to compare with)\n",
    "#df.dropna(subset=['Average real  wage (% change)'], inplace=True)\n",
    "\n",
    "df['Real Average Wage % change'] = df['Real Average Wage % change'].round(2)\n",
    "\n",
    "print(df.head())\n",
    "\n",
    "\n",
    "\n",
    "#Add a text box\n",
    "\n",
    "import plotly.graph_objects as go\n",
    "\n",
    "# Define background color\n",
    "color_background = '#F8EFDE'\n",
    "color_positive = '#46C07a'\n",
    "color_negative = '#c46e6e'\n",
    "\n",
    "\n",
    "# Create a figure\n",
    "fig = go.Figure()\n",
    "\n",
    "# Add a bar trace for Real Income\n",
    "fig.add_trace(go.Bar(x=merged_df['Year'], y=df['Real Average Wage % change'],\n",
    "                     name='Real Wage (%)',\n",
    "                     marker_color=[color_positive if value >= 0 else color_negative for value in df['Real Average Wage % change']]))\n",
    "\n",
    "# Customize hover text\n",
    "hover_text = [f'{val:.2f}%' for val in df['Real Average Wage % change']]\n",
    "fig.update_traces(hovertext=hover_text, hoverinfo='text')\n",
    "\n",
    "\n",
    "# Update layout\n",
    "fig.update_layout(\n",
    "    title='Real Average Wage % (1992-2023)',\n",
    "    xaxis_title='Year',\n",
    "    yaxis_title='% change',\n",
    "    plot_bgcolor=color_background,\n",
    "    paper_bgcolor=color_background,\n",
    "    xaxis=dict(\n",
    "        dtick=2\n",
    "    ),  # Adjust the tick frequency here (e.g., 1 for every year)\n",
    ")\n",
    "\n",
    "# Show the plot\n",
    "fig.show()\n"
   ]
  }
 ],
 "metadata": {
  "kernelspec": {
   "display_name": "base",
   "language": "python",
   "name": "python3"
  },
  "language_info": {
   "codemirror_mode": {
    "name": "ipython",
    "version": 3
   },
   "file_extension": ".py",
   "mimetype": "text/x-python",
   "name": "python",
   "nbconvert_exporter": "python",
   "pygments_lexer": "ipython3",
   "version": "3.12.3"
  }
 },
 "nbformat": 4,
 "nbformat_minor": 2
}
