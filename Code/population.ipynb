{
 "cells": [
  {
   "cell_type": "code",
   "execution_count": null,
   "id": "12ac8b72",
   "metadata": {},
   "outputs": [
    {
     "name": "stdout",
     "output_type": "stream",
     "text": [
      "Sample male percentages: [0.15844071121714995, 0.4460576530211929, 0.887187159106982]\n",
      "Sample female percentages: [0.3776514047186876, 0.9445877374163651, 1.6857883841110037]\n"
     ]
    },
    {
     "data": {
      "application/vnd.plotly.v1+json": {
       "config": {
        "plotlyServerURL": "https://plot.ly"
       },
       "data": [
        {
         "customdata": [
          [
           30189,
           0.15844071121714995
          ],
          [
           84991,
           0.4460576530211929
          ],
          [
           169043,
           0.887187159106982
          ],
          [
           237754,
           1.2478026054099927
          ],
          [
           412542,
           2.165141206629748
          ],
          [
           555468,
           2.915258702784718
          ],
          [
           561361,
           2.9461868922312933
          ],
          [
           493801,
           2.5916122309364296
          ],
          [
           835617,
           4.385562681279313
          ],
          [
           748337,
           3.927491686048175
          ],
          [
           744898,
           3.909442807122878
          ],
          [
           640673,
           3.3624394904642454
          ],
          [
           638301,
           3.349990539952236
          ],
          [
           491093,
           2.5773998540449776
          ],
          [
           488081,
           2.5615919961435543
          ],
          [
           533506,
           2.7999956963999075
          ],
          [
           562557,
           2.952463850415258
          ],
          [
           526028,
           2.76074896287174
          ],
          [
           491300,
           2.5784862506537403
          ]
         ],
         "hoverlabel": {
          "bgcolor": "#4f7d8f",
          "font": {
           "color": "white"
          }
         },
         "hovertemplate": "<b>%{y}</b><br>Male: %{customdata[0]:,.0f} people (%{customdata[1]:.1f}%)<br><extra></extra>",
         "marker": {
          "color": "#4f7d8f"
         },
         "name": "Male",
         "orientation": "h",
         "text": [
          "0.2%",
          "0.4%",
          "0.9%",
          "1.2%",
          "2.2%",
          "2.9%",
          "2.9%",
          "2.6%",
          "4.4%",
          "3.9%",
          "3.9%",
          "3.4%",
          "3.3%",
          "2.6%",
          "2.6%",
          "2.8%",
          "3.0%",
          "2.8%",
          "2.6%"
         ],
         "textfont": {
          "color": "white",
          "size": 10
         },
         "textposition": "inside",
         "type": "bar",
         "x": [
          -0.15844071121714995,
          -0.4460576530211929,
          -0.887187159106982,
          -1.2478026054099927,
          -2.165141206629748,
          -2.915258702784718,
          -2.9461868922312933,
          -2.5916122309364296,
          -4.385562681279313,
          -3.927491686048175,
          -3.909442807122878,
          -3.3624394904642454,
          -3.349990539952236,
          -2.5773998540449776,
          -2.5615919961435543,
          -2.7999956963999075,
          -2.952463850415258,
          -2.76074896287174,
          -2.5784862506537403
         ],
         "y": [
          "90+",
          "85 - 89",
          "80 - 84",
          "75 - 79",
          "70 - 74",
          "65 - 69",
          "60 - 64",
          "55 - 59",
          "50 - 54",
          "45 - 49",
          "40 - 44",
          "35 - 39",
          "30 - 34",
          "25 - 29",
          "20 - 24",
          "15 - 19",
          " 10 - 14",
          " 5 - 9",
          "0 - 4"
         ]
        },
        {
         "customdata": [
          [
           71957,
           0.3776514047186876
          ],
          [
           179980,
           0.9445877374163651
          ],
          [
           321207,
           1.6857883841110037
          ],
          [
           377827,
           1.9829467222180965
          ],
          [
           577489,
           3.0308313584444897
          ],
          [
           707933,
           3.715439663920322
          ],
          [
           657959,
           3.45316147973516
          ],
          [
           516726,
           2.711929343283747
          ],
          [
           829586,
           4.353910227426896
          ],
          [
           718661,
           3.771743349035351
          ],
          [
           706694,
           3.708937029146132
          ],
          [
           603389,
           3.1667621418597793
          ],
          [
           605820,
           3.179520741646752
          ],
          [
           468243,
           2.457476363657357
          ],
          [
           465210,
           2.441558291607219
          ],
          [
           505577,
           2.6534161269016208
          ],
          [
           531098,
           2.7873578073472425
          ],
          [
           497504,
           2.6110466591598587
          ],
          [
           465415,
           2.44263419163039
          ]
         ],
         "hoverlabel": {
          "bgcolor": "#c46e6e",
          "font": {
           "color": "white"
          }
         },
         "hovertemplate": "<b>%{y}</b><br>Female: %{customdata[0]:,.0f} people (%{customdata[1]:.1f}%)<br><extra></extra>",
         "marker": {
          "color": "#c46e6e"
         },
         "name": "Female",
         "orientation": "h",
         "text": [
          "0.4%",
          "0.9%",
          "1.7%",
          "2.0%",
          "3.0%",
          "3.7%",
          "3.5%",
          "2.7%",
          "4.4%",
          "3.8%",
          "3.7%",
          "3.2%",
          "3.2%",
          "2.5%",
          "2.4%",
          "2.7%",
          "2.8%",
          "2.6%",
          "2.4%"
         ],
         "textfont": {
          "color": "white",
          "size": 10
         },
         "textposition": "inside",
         "type": "bar",
         "x": [
          0.3776514047186876,
          0.9445877374163651,
          1.6857883841110037,
          1.9829467222180965,
          3.0308313584444897,
          3.715439663920322,
          3.45316147973516,
          2.711929343283747,
          4.353910227426896,
          3.771743349035351,
          3.708937029146132,
          3.1667621418597793,
          3.179520741646752,
          2.457476363657357,
          2.441558291607219,
          2.6534161269016208,
          2.7873578073472425,
          2.6110466591598587,
          2.44263419163039
         ],
         "y": [
          "90+",
          "85 - 89",
          "80 - 84",
          "75 - 79",
          "70 - 74",
          "65 - 69",
          "60 - 64",
          "55 - 59",
          "50 - 54",
          "45 - 49",
          "40 - 44",
          "35 - 39",
          "30 - 34",
          "25 - 29",
          "20 - 24",
          "15 - 19",
          " 10 - 14",
          " 5 - 9",
          "0 - 4"
         ]
        }
       ],
       "layout": {
        "annotations": [
         {
          "font": {
           "color": "#4f7d8f",
           "family": "Arial Black",
           "size": 16
          },
          "showarrow": false,
          "text": "Male",
          "x": -2.894471369644347,
          "xanchor": "center",
          "y": 19
         },
         {
          "font": {
           "color": "#c46e6e",
           "family": "Arial Black",
           "size": 16
          },
          "showarrow": false,
          "text": "Female",
          "x": 2.894471369644347,
          "xanchor": "center",
          "y": 19
         }
        ],
        "bargap": 0.1,
        "barmode": "relative",
        "font": {
         "color": "black",
         "family": "Arial, sans-serif",
         "size": 12
        },
        "height": 700,
        "legend": {
         "bgcolor": "#F8EFDE",
         "bordercolor": "gray",
         "borderwidth": 1,
         "orientation": "h",
         "x": 0.5,
         "xanchor": "center",
         "y": 1.02,
         "yanchor": "bottom"
        },
        "margin": {
         "b": 80,
         "l": 80,
         "r": 80,
         "t": 100
        },
        "paper_bgcolor": "#F8EFDE",
        "plot_bgcolor": "#F8EFDE",
        "template": {
         "data": {
          "bar": [
           {
            "error_x": {
             "color": "#2a3f5f"
            },
            "error_y": {
             "color": "#2a3f5f"
            },
            "marker": {
             "line": {
              "color": "#E5ECF6",
              "width": 0.5
             },
             "pattern": {
              "fillmode": "overlay",
              "size": 10,
              "solidity": 0.2
             }
            },
            "type": "bar"
           }
          ],
          "barpolar": [
           {
            "marker": {
             "line": {
              "color": "#E5ECF6",
              "width": 0.5
             },
             "pattern": {
              "fillmode": "overlay",
              "size": 10,
              "solidity": 0.2
             }
            },
            "type": "barpolar"
           }
          ],
          "carpet": [
           {
            "aaxis": {
             "endlinecolor": "#2a3f5f",
             "gridcolor": "white",
             "linecolor": "white",
             "minorgridcolor": "white",
             "startlinecolor": "#2a3f5f"
            },
            "baxis": {
             "endlinecolor": "#2a3f5f",
             "gridcolor": "white",
             "linecolor": "white",
             "minorgridcolor": "white",
             "startlinecolor": "#2a3f5f"
            },
            "type": "carpet"
           }
          ],
          "choropleth": [
           {
            "colorbar": {
             "outlinewidth": 0,
             "ticks": ""
            },
            "type": "choropleth"
           }
          ],
          "contour": [
           {
            "colorbar": {
             "outlinewidth": 0,
             "ticks": ""
            },
            "colorscale": [
             [
              0,
              "#0d0887"
             ],
             [
              0.1111111111111111,
              "#46039f"
             ],
             [
              0.2222222222222222,
              "#7201a8"
             ],
             [
              0.3333333333333333,
              "#9c179e"
             ],
             [
              0.4444444444444444,
              "#bd3786"
             ],
             [
              0.5555555555555556,
              "#d8576b"
             ],
             [
              0.6666666666666666,
              "#ed7953"
             ],
             [
              0.7777777777777778,
              "#fb9f3a"
             ],
             [
              0.8888888888888888,
              "#fdca26"
             ],
             [
              1,
              "#f0f921"
             ]
            ],
            "type": "contour"
           }
          ],
          "contourcarpet": [
           {
            "colorbar": {
             "outlinewidth": 0,
             "ticks": ""
            },
            "type": "contourcarpet"
           }
          ],
          "heatmap": [
           {
            "colorbar": {
             "outlinewidth": 0,
             "ticks": ""
            },
            "colorscale": [
             [
              0,
              "#0d0887"
             ],
             [
              0.1111111111111111,
              "#46039f"
             ],
             [
              0.2222222222222222,
              "#7201a8"
             ],
             [
              0.3333333333333333,
              "#9c179e"
             ],
             [
              0.4444444444444444,
              "#bd3786"
             ],
             [
              0.5555555555555556,
              "#d8576b"
             ],
             [
              0.6666666666666666,
              "#ed7953"
             ],
             [
              0.7777777777777778,
              "#fb9f3a"
             ],
             [
              0.8888888888888888,
              "#fdca26"
             ],
             [
              1,
              "#f0f921"
             ]
            ],
            "type": "heatmap"
           }
          ],
          "heatmapgl": [
           {
            "colorbar": {
             "outlinewidth": 0,
             "ticks": ""
            },
            "colorscale": [
             [
              0,
              "#0d0887"
             ],
             [
              0.1111111111111111,
              "#46039f"
             ],
             [
              0.2222222222222222,
              "#7201a8"
             ],
             [
              0.3333333333333333,
              "#9c179e"
             ],
             [
              0.4444444444444444,
              "#bd3786"
             ],
             [
              0.5555555555555556,
              "#d8576b"
             ],
             [
              0.6666666666666666,
              "#ed7953"
             ],
             [
              0.7777777777777778,
              "#fb9f3a"
             ],
             [
              0.8888888888888888,
              "#fdca26"
             ],
             [
              1,
              "#f0f921"
             ]
            ],
            "type": "heatmapgl"
           }
          ],
          "histogram": [
           {
            "marker": {
             "pattern": {
              "fillmode": "overlay",
              "size": 10,
              "solidity": 0.2
             }
            },
            "type": "histogram"
           }
          ],
          "histogram2d": [
           {
            "colorbar": {
             "outlinewidth": 0,
             "ticks": ""
            },
            "colorscale": [
             [
              0,
              "#0d0887"
             ],
             [
              0.1111111111111111,
              "#46039f"
             ],
             [
              0.2222222222222222,
              "#7201a8"
             ],
             [
              0.3333333333333333,
              "#9c179e"
             ],
             [
              0.4444444444444444,
              "#bd3786"
             ],
             [
              0.5555555555555556,
              "#d8576b"
             ],
             [
              0.6666666666666666,
              "#ed7953"
             ],
             [
              0.7777777777777778,
              "#fb9f3a"
             ],
             [
              0.8888888888888888,
              "#fdca26"
             ],
             [
              1,
              "#f0f921"
             ]
            ],
            "type": "histogram2d"
           }
          ],
          "histogram2dcontour": [
           {
            "colorbar": {
             "outlinewidth": 0,
             "ticks": ""
            },
            "colorscale": [
             [
              0,
              "#0d0887"
             ],
             [
              0.1111111111111111,
              "#46039f"
             ],
             [
              0.2222222222222222,
              "#7201a8"
             ],
             [
              0.3333333333333333,
              "#9c179e"
             ],
             [
              0.4444444444444444,
              "#bd3786"
             ],
             [
              0.5555555555555556,
              "#d8576b"
             ],
             [
              0.6666666666666666,
              "#ed7953"
             ],
             [
              0.7777777777777778,
              "#fb9f3a"
             ],
             [
              0.8888888888888888,
              "#fdca26"
             ],
             [
              1,
              "#f0f921"
             ]
            ],
            "type": "histogram2dcontour"
           }
          ],
          "mesh3d": [
           {
            "colorbar": {
             "outlinewidth": 0,
             "ticks": ""
            },
            "type": "mesh3d"
           }
          ],
          "parcoords": [
           {
            "line": {
             "colorbar": {
              "outlinewidth": 0,
              "ticks": ""
             }
            },
            "type": "parcoords"
           }
          ],
          "pie": [
           {
            "automargin": true,
            "type": "pie"
           }
          ],
          "scatter": [
           {
            "fillpattern": {
             "fillmode": "overlay",
             "size": 10,
             "solidity": 0.2
            },
            "type": "scatter"
           }
          ],
          "scatter3d": [
           {
            "line": {
             "colorbar": {
              "outlinewidth": 0,
              "ticks": ""
             }
            },
            "marker": {
             "colorbar": {
              "outlinewidth": 0,
              "ticks": ""
             }
            },
            "type": "scatter3d"
           }
          ],
          "scattercarpet": [
           {
            "marker": {
             "colorbar": {
              "outlinewidth": 0,
              "ticks": ""
             }
            },
            "type": "scattercarpet"
           }
          ],
          "scattergeo": [
           {
            "marker": {
             "colorbar": {
              "outlinewidth": 0,
              "ticks": ""
             }
            },
            "type": "scattergeo"
           }
          ],
          "scattergl": [
           {
            "marker": {
             "colorbar": {
              "outlinewidth": 0,
              "ticks": ""
             }
            },
            "type": "scattergl"
           }
          ],
          "scattermapbox": [
           {
            "marker": {
             "colorbar": {
              "outlinewidth": 0,
              "ticks": ""
             }
            },
            "type": "scattermapbox"
           }
          ],
          "scatterpolar": [
           {
            "marker": {
             "colorbar": {
              "outlinewidth": 0,
              "ticks": ""
             }
            },
            "type": "scatterpolar"
           }
          ],
          "scatterpolargl": [
           {
            "marker": {
             "colorbar": {
              "outlinewidth": 0,
              "ticks": ""
             }
            },
            "type": "scatterpolargl"
           }
          ],
          "scatterternary": [
           {
            "marker": {
             "colorbar": {
              "outlinewidth": 0,
              "ticks": ""
             }
            },
            "type": "scatterternary"
           }
          ],
          "surface": [
           {
            "colorbar": {
             "outlinewidth": 0,
             "ticks": ""
            },
            "colorscale": [
             [
              0,
              "#0d0887"
             ],
             [
              0.1111111111111111,
              "#46039f"
             ],
             [
              0.2222222222222222,
              "#7201a8"
             ],
             [
              0.3333333333333333,
              "#9c179e"
             ],
             [
              0.4444444444444444,
              "#bd3786"
             ],
             [
              0.5555555555555556,
              "#d8576b"
             ],
             [
              0.6666666666666666,
              "#ed7953"
             ],
             [
              0.7777777777777778,
              "#fb9f3a"
             ],
             [
              0.8888888888888888,
              "#fdca26"
             ],
             [
              1,
              "#f0f921"
             ]
            ],
            "type": "surface"
           }
          ],
          "table": [
           {
            "cells": {
             "fill": {
              "color": "#EBF0F8"
             },
             "line": {
              "color": "white"
             }
            },
            "header": {
             "fill": {
              "color": "#C8D4E3"
             },
             "line": {
              "color": "white"
             }
            },
            "type": "table"
           }
          ]
         },
         "layout": {
          "annotationdefaults": {
           "arrowcolor": "#2a3f5f",
           "arrowhead": 0,
           "arrowwidth": 1
          },
          "autotypenumbers": "strict",
          "coloraxis": {
           "colorbar": {
            "outlinewidth": 0,
            "ticks": ""
           }
          },
          "colorscale": {
           "diverging": [
            [
             0,
             "#8e0152"
            ],
            [
             0.1,
             "#c51b7d"
            ],
            [
             0.2,
             "#de77ae"
            ],
            [
             0.3,
             "#f1b6da"
            ],
            [
             0.4,
             "#fde0ef"
            ],
            [
             0.5,
             "#f7f7f7"
            ],
            [
             0.6,
             "#e6f5d0"
            ],
            [
             0.7,
             "#b8e186"
            ],
            [
             0.8,
             "#7fbc41"
            ],
            [
             0.9,
             "#4d9221"
            ],
            [
             1,
             "#276419"
            ]
           ],
           "sequential": [
            [
             0,
             "#0d0887"
            ],
            [
             0.1111111111111111,
             "#46039f"
            ],
            [
             0.2222222222222222,
             "#7201a8"
            ],
            [
             0.3333333333333333,
             "#9c179e"
            ],
            [
             0.4444444444444444,
             "#bd3786"
            ],
            [
             0.5555555555555556,
             "#d8576b"
            ],
            [
             0.6666666666666666,
             "#ed7953"
            ],
            [
             0.7777777777777778,
             "#fb9f3a"
            ],
            [
             0.8888888888888888,
             "#fdca26"
            ],
            [
             1,
             "#f0f921"
            ]
           ],
           "sequentialminus": [
            [
             0,
             "#0d0887"
            ],
            [
             0.1111111111111111,
             "#46039f"
            ],
            [
             0.2222222222222222,
             "#7201a8"
            ],
            [
             0.3333333333333333,
             "#9c179e"
            ],
            [
             0.4444444444444444,
             "#bd3786"
            ],
            [
             0.5555555555555556,
             "#d8576b"
            ],
            [
             0.6666666666666666,
             "#ed7953"
            ],
            [
             0.7777777777777778,
             "#fb9f3a"
            ],
            [
             0.8888888888888888,
             "#fdca26"
            ],
            [
             1,
             "#f0f921"
            ]
           ]
          },
          "colorway": [
           "#636efa",
           "#EF553B",
           "#00cc96",
           "#ab63fa",
           "#FFA15A",
           "#19d3f3",
           "#FF6692",
           "#B6E880",
           "#FF97FF",
           "#FECB52"
          ],
          "font": {
           "color": "#2a3f5f"
          },
          "geo": {
           "bgcolor": "white",
           "lakecolor": "white",
           "landcolor": "#E5ECF6",
           "showlakes": true,
           "showland": true,
           "subunitcolor": "white"
          },
          "hoverlabel": {
           "align": "left"
          },
          "hovermode": "closest",
          "mapbox": {
           "style": "light"
          },
          "paper_bgcolor": "white",
          "plot_bgcolor": "#E5ECF6",
          "polar": {
           "angularaxis": {
            "gridcolor": "white",
            "linecolor": "white",
            "ticks": ""
           },
           "bgcolor": "#E5ECF6",
           "radialaxis": {
            "gridcolor": "white",
            "linecolor": "white",
            "ticks": ""
           }
          },
          "scene": {
           "xaxis": {
            "backgroundcolor": "#E5ECF6",
            "gridcolor": "white",
            "gridwidth": 2,
            "linecolor": "white",
            "showbackground": true,
            "ticks": "",
            "zerolinecolor": "white"
           },
           "yaxis": {
            "backgroundcolor": "#E5ECF6",
            "gridcolor": "white",
            "gridwidth": 2,
            "linecolor": "white",
            "showbackground": true,
            "ticks": "",
            "zerolinecolor": "white"
           },
           "zaxis": {
            "backgroundcolor": "#E5ECF6",
            "gridcolor": "white",
            "gridwidth": 2,
            "linecolor": "white",
            "showbackground": true,
            "ticks": "",
            "zerolinecolor": "white"
           }
          },
          "shapedefaults": {
           "line": {
            "color": "#2a3f5f"
           }
          },
          "ternary": {
           "aaxis": {
            "gridcolor": "white",
            "linecolor": "white",
            "ticks": ""
           },
           "baxis": {
            "gridcolor": "white",
            "linecolor": "white",
            "ticks": ""
           },
           "bgcolor": "#E5ECF6",
           "caxis": {
            "gridcolor": "white",
            "linecolor": "white",
            "ticks": ""
           }
          },
          "title": {
           "x": 0.05
          },
          "xaxis": {
           "automargin": true,
           "gridcolor": "white",
           "linecolor": "white",
           "ticks": "",
           "title": {
            "standoff": 15
           },
           "zerolinecolor": "white",
           "zerolinewidth": 2
          },
          "yaxis": {
           "automargin": true,
           "gridcolor": "white",
           "linecolor": "white",
           "ticks": "",
           "title": {
            "standoff": 15
           },
           "zerolinecolor": "white",
           "zerolinewidth": 2
          }
         }
        },
        "title": {
         "font": {
          "color": "black",
          "family": "Arial, sans-serif",
          "size": 20
         },
         "text": "Romania Population Pyramid 2023",
         "x": 0.5,
         "xanchor": "center"
        },
        "xaxis": {
         "gridcolor": "lightgray",
         "gridwidth": 0.5,
         "range": [
          -4.824118949407245,
          4.824118949407245
         ],
         "showgrid": true,
         "tickfont": {
          "color": "black"
         },
         "title": {
          "text": "Population (%)"
         },
         "zeroline": true,
         "zerolinecolor": "black",
         "zerolinewidth": 2
        },
        "yaxis": {
         "categoryarray": [
          "0 - 4",
          " 5 - 9",
          " 10 - 14",
          "15 - 19",
          "20 - 24",
          "25 - 29",
          "30 - 34",
          "35 - 39",
          "40 - 44",
          "45 - 49",
          "50 - 54",
          "55 - 59",
          "60 - 64",
          "65 - 69",
          "70 - 74",
          "75 - 79",
          "80 - 84",
          "85 - 89",
          "90+"
         ],
         "categoryorder": "array",
         "gridcolor": "lightgray",
         "gridwidth": 0.5,
         "showgrid": true,
         "tickfont": {
          "color": "black"
         },
         "title": {
          "text": "Age Groups"
         }
        }
       }
      }
     },
     "metadata": {},
     "output_type": "display_data"
    },
    {
     "data": {
      "text/plain": [
       "'\\nimport streamlit as st\\n\\nst.title(\"Romania Demographics Dashboard\")\\n\\n# Your existing graphs here\\n# ...\\n\\n# Population pyramid\\nst.subheader(\"Population Pyramid\")\\npyramid_fig = get_streamlit_pyramid()\\nst.plotly_chart(pyramid_fig, use_container_width=True)\\n'"
      ]
     },
     "execution_count": 13,
     "metadata": {},
     "output_type": "execute_result"
    }
   ],
   "source": [
    "import plotly.graph_objects as go\n",
    "import pandas as pd\n",
    "import numpy as np\n",
    "\n",
    "# Define colors to match your existing graphs\n",
    "color_background = '#F8EFDE'\n",
    "color_male = '#4f7d8f'  # Blue for men\n",
    "color_female = '#c46e6e'  # Red for women\n",
    "\n",
    "# Read the data\n",
    "file_path = r'C:\\Users\\Svitlana\\OneDrive\\RoFacts\\mvp\\Raw Data\\population.xlsx'\n",
    "df = pd.read_excel(file_path)\n",
    "\n",
    "# Extract data from DataFrame\n",
    "age_groups = df['Age_group'].tolist()\n",
    "male_population = df['Male_Count'].tolist()\n",
    "female_population = df['Female_Count'].tolist()\n",
    "\n",
    "# Convert percentages if they're stored as decimals in Excel\n",
    "# If your Excel shows 2.5% but Python reads 0.025, multiply by 100\n",
    "male_percentages = [p * 100 if p < 1 else p for p in df['Male_Percent'].tolist()]\n",
    "female_percentages = [p * 100 if p < 1 else p for p in df['Female_Percent'].tolist()]\n",
    "\n",
    "print(\"Sample male percentages:\", male_percentages[:3])  # Debug print\n",
    "print(\"Sample female percentages:\", female_percentages[:3])  # Debug print\n",
    "\n",
    "def create_population_pyramid():\n",
    "    \"\"\"\n",
    "    Creates a clean, simple population pyramid showing percentages\n",
    "    \"\"\"\n",
    "    fig = go.Figure()\n",
    "    \n",
    "    # Add male population (left side, negative values for display)\n",
    "    fig.add_trace(go.Bar(\n",
    "        y=age_groups,\n",
    "        x=[-p for p in male_percentages],  # Negative for left side\n",
    "        name='Male',\n",
    "        orientation='h',\n",
    "        marker=dict(color=color_male),\n",
    "        text=[f'{p:.1f}%' for p in male_percentages],\n",
    "        textposition='inside',\n",
    "        textfont=dict(color='white', size=10),\n",
    "        hovertemplate=(\n",
    "            '<b>%{y}</b><br>' +\n",
    "            'Male: %{customdata[0]:,.0f} people (%{customdata[1]:.1f}%)<br>' +\n",
    "            '<extra></extra>'\n",
    "        ),\n",
    "        customdata=list(zip(male_population, male_percentages)),\n",
    "        hoverlabel=dict(bgcolor=color_male, font=dict(color='white')),\n",
    "    ))\n",
    "    \n",
    "    # Add female population (right side)\n",
    "    fig.add_trace(go.Bar(\n",
    "        y=age_groups,\n",
    "        x=female_percentages,\n",
    "        name='Female',\n",
    "        orientation='h',\n",
    "        marker=dict(color=color_female),\n",
    "        text=[f'{p:.1f}%' for p in female_percentages],\n",
    "        textposition='inside',\n",
    "        textfont=dict(color='white', size=10),\n",
    "        hovertemplate=(\n",
    "            '<b>%{y}</b><br>' +\n",
    "            'Female: %{customdata[0]:,.0f} people (%{customdata[1]:.1f}%)<br>' +\n",
    "            '<extra></extra>'\n",
    "        ),\n",
    "        customdata=list(zip(female_population, female_percentages)),\n",
    "        hoverlabel=dict(bgcolor=color_female, font=dict(color='white')),\n",
    "    ))\n",
    "    \n",
    "    # Calculate tick range\n",
    "    max_percent = max(max(male_percentages), max(female_percentages))\n",
    "    tick_range = max_percent * 1.1\n",
    "    \n",
    "    # Update layout\n",
    "    fig.update_layout(\n",
    "        title={\n",
    "            'text': 'Romania Population Pyramid 2023',\n",
    "            'x': 0.5,\n",
    "            'xanchor': 'center',\n",
    "            'font': {'size': 20, 'family': 'Arial, sans-serif', 'color': 'black'}\n",
    "        },\n",
    "        xaxis=dict(\n",
    "            title='Population (%)',\n",
    "            range=[-tick_range, tick_range],\n",
    "            showgrid=True,\n",
    "            gridcolor='lightgray',\n",
    "            gridwidth=0.5,\n",
    "            zeroline=True,\n",
    "            zerolinecolor='black',\n",
    "            zerolinewidth=2,\n",
    "            tickfont=dict(color='black')\n",
    "        ),\n",
    "        yaxis=dict(\n",
    "            title='Age Groups',\n",
    "            categoryorder='array',\n",
    "            categoryarray=age_groups[::-1],  # Reverse order so youngest is at bottom\n",
    "            showgrid=True,\n",
    "            gridcolor='lightgray',\n",
    "            gridwidth=0.5,\n",
    "            tickfont=dict(color='black')\n",
    "        ),\n",
    "        barmode='relative',\n",
    "        bargap=0.1,\n",
    "        plot_bgcolor=color_background,\n",
    "        paper_bgcolor=color_background,\n",
    "        font=dict(family='Arial, sans-serif', size=12, color='black'),\n",
    "        legend=dict(\n",
    "            orientation='h',\n",
    "            yanchor='bottom',\n",
    "            y=1.02,\n",
    "            xanchor='center',\n",
    "            x=0.5,\n",
    "            bgcolor=color_background,\n",
    "            bordercolor=\"gray\",\n",
    "            borderwidth=1\n",
    "        ),\n",
    "        height=700,\n",
    "        margin=dict(l=80, r=80, t=100, b=80)\n",
    "    )\n",
    "    \n",
    "    # Add gender labels\n",
    "    fig.add_annotation(\n",
    "        x=-tick_range*0.6,\n",
    "        y=len(age_groups),\n",
    "        text=\"Male\",\n",
    "        showarrow=False,\n",
    "        font=dict(size=16, color=color_male, family='Arial Black'),\n",
    "        xanchor='center'\n",
    "    )\n",
    "    \n",
    "    fig.add_annotation(\n",
    "        x=tick_range*0.6,\n",
    "        y=len(age_groups),\n",
    "        text=\"Female\",\n",
    "        showarrow=False,\n",
    "        font=dict(size=16, color=color_female, family='Arial Black'),\n",
    "        xanchor='center'\n",
    "    )\n",
    "    \n",
    "    return fig\n",
    "\n",
    "# Create and show the pyramid\n",
    "fig = create_population_pyramid()\n",
    "fig.show()\n",
    "\n",
    "# For Streamlit integration\n",
    "def get_streamlit_pyramid():\n",
    "    \"\"\"\n",
    "    Returns the figure optimized for Streamlit\n",
    "    \"\"\"\n",
    "    return create_population_pyramid()\n",
    "\n",
    "# Example Streamlit usage:\n",
    "\"\"\"\n",
    "import streamlit as st\n",
    "\n",
    "st.title(\"Romania Demographics Dashboard\")\n",
    "\n",
    "# Your existing graphs here\n",
    "# ...\n",
    "\n",
    "# Population pyramid\n",
    "st.subheader(\"Population Pyramid\")\n",
    "pyramid_fig = get_streamlit_pyramid()\n",
    "st.plotly_chart(pyramid_fig, use_container_width=True)\n",
    "\"\"\""
   ]
  }
 ],
 "metadata": {
  "kernelspec": {
   "display_name": "base",
   "language": "python",
   "name": "python3"
  },
  "language_info": {
   "codemirror_mode": {
    "name": "ipython",
    "version": 3
   },
   "file_extension": ".py",
   "mimetype": "text/x-python",
   "name": "python",
   "nbconvert_exporter": "python",
   "pygments_lexer": "ipython3",
   "version": "3.12.3"
  }
 },
 "nbformat": 4,
 "nbformat_minor": 5
}
