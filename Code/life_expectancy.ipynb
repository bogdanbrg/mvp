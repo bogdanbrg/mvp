{
 "cells": [
  {
   "cell_type": "code",
   "execution_count": 48,
   "id": "48e9234d",
   "metadata": {},
   "outputs": [
    {
     "name": "stdout",
     "output_type": "stream",
     "text": [
      "ROMANIA LIFE EXPECTANCY DATA\n",
      "========================================\n",
      "Records: 168 | Years: 1968-2023\n",
      "Categories: ['Females', 'Males', 'Total']\n",
      "\n",
      "First 10 rows:\n",
      " Year     Sex  Life_Expectancy\n",
      " 1968 Females             70.3\n",
      " 1968   Males             66.0\n",
      " 1968   Total             68.2\n",
      " 1969 Females             69.7\n",
      " 1969   Males             65.1\n",
      " 1969   Total             67.4\n",
      " 1970 Females             70.4\n",
      " 1970   Males             65.9\n",
      " 1970   Total             68.2\n",
      " 1971 Females             70.8\n"
     ]
    }
   ],
   "source": [
    "import requests\n",
    "import pandas as pd\n",
    "\n",
    "def get_romania_life_expectancy():\n",
    "    \"\"\"Get Romania life expectancy data: Year, Sex, Life_Expectancy\"\"\"\n",
    "\n",
    "    url = \"https://ec.europa.eu/eurostat/api/dissemination/statistics/1.0/data/demo_mlexpec\"\n",
    "    params = {\n",
    "        'format': 'json',\n",
    "        'geo': 'RO',\n",
    "        'age': 'Y_LT1',  # Life expectancy at birth\n",
    "        'lang': 'en'\n",
    "    }\n",
    "\n",
    "    response = requests.get(url, params=params)\n",
    "    response.raise_for_status()\n",
    "    data = response.json()\n",
    "\n",
    "    values = data['value']\n",
    "    dimensions = data['dimension']\n",
    "\n",
    "    # Get dimension sizes for key decoding\n",
    "    dim_sizes = []\n",
    "    dim_names = list(dimensions.keys())\n",
    "\n",
    "    for dim_name in dim_names:\n",
    "        size = len(dimensions[dim_name]['category']['index'])\n",
    "        dim_sizes.append(size)\n",
    "\n",
    "    # Get labels\n",
    "    time_labels = dimensions['time']['category']['label']\n",
    "    sex_labels = dimensions['sex']['category']['label']\n",
    "\n",
    "    def decode_key(key_num, sizes):\n",
    "        \"\"\"Convert single number key to multi-dimensional indices\"\"\"\n",
    "        key_num = int(key_num)\n",
    "        indices = []\n",
    "        for size in reversed(sizes):\n",
    "            indices.append(key_num % size)\n",
    "            key_num //= size\n",
    "        return list(reversed(indices))\n",
    "\n",
    "    # Extract data\n",
    "    records = []\n",
    "    for key_str, life_exp in values.items():\n",
    "        if life_exp is not None:\n",
    "            indices = decode_key(key_str, dim_sizes)\n",
    "\n",
    "            # Get year and sex\n",
    "            time_idx = indices[dim_names.index('time')]\n",
    "            sex_idx = indices[dim_names.index('sex')]\n",
    "\n",
    "            year = list(time_labels.values())[time_idx]\n",
    "            sex = list(sex_labels.values())[sex_idx]\n",
    "\n",
    "            records.append({\n",
    "                'Year': int(year),\n",
    "                'Sex': sex,\n",
    "                'Life_Expectancy': life_exp\n",
    "            })\n",
    "\n",
    "    # Create and sort DataFrame\n",
    "    df = pd.DataFrame(records)\n",
    "    return df.sort_values(['Year', 'Sex']).reset_index(drop=True)\n",
    "\n",
    "# Get data and display\n",
    "df = get_romania_life_expectancy()\n",
    "\n",
    "print(\"ROMANIA LIFE EXPECTANCY DATA\")\n",
    "print(\"=\"*40)\n",
    "print(f\"Records: {len(df)} | Years: {df['Year'].min()}-{df['Year'].max()}\")\n",
    "print(f\"Categories: {list(df['Sex'].unique())}\")\n",
    "print(\"\\nFirst 10 rows:\")\n",
    "print(df.head(10).to_string(index=False))\n",
    "\n",
    "\n",
    "df.to_excel(r'C:\\Users\\Svitlana\\OneDrive\\RoFacts\\mvp\\data\\life_expectancy.xlsx', index=False)\n",
    "\n"
   ]
  },
  {
   "cell_type": "code",
   "execution_count": null,
   "id": "679d0137",
   "metadata": {},
   "outputs": [
    {
     "data": {
      "application/vnd.plotly.v1+json": {
       "config": {
        "plotlyServerURL": "https://plot.ly"
       },
       "data": [
        {
         "line": {
          "color": "#4f7d8f",
          "width": 3
         },
         "marker": {
          "size": 6
         },
         "mode": "lines+markers",
         "name": "Males",
         "type": "scatter",
         "visible": true,
         "x": [
          1968,
          1969,
          1970,
          1971,
          1972,
          1973,
          1974,
          1975,
          1976,
          1977,
          1978,
          1979,
          1980,
          1981,
          1982,
          1983,
          1984,
          1985,
          1986,
          1987,
          1988,
          1989,
          1990,
          1991,
          1992,
          1993,
          1994,
          1995,
          1996,
          1997,
          1998,
          1999,
          2000,
          2001,
          2002,
          2003,
          2004,
          2005,
          2006,
          2007,
          2008,
          2009,
          2010,
          2011,
          2012,
          2013,
          2014,
          2015,
          2016,
          2017,
          2018,
          2019,
          2020,
          2021,
          2022,
          2023
         ],
         "y": [
          66,
          65.1,
          65.9,
          66.4,
          66.9,
          66.6,
          67.4,
          67.4,
          67.7,
          67.4,
          67.3,
          66.9,
          66.6,
          66.8,
          67.1,
          67,
          67,
          66.4,
          66.7,
          66.1,
          66.5,
          66.7,
          66.7,
          66.8,
          66,
          65.9,
          65.7,
          65.5,
          65.1,
          65.2,
          66.3,
          67.1,
          67.7,
          67.5,
          67.3,
          67.4,
          67.8,
          68.4,
          69,
          69.5,
          69.7,
          69.8,
          70,
          70.8,
          70.9,
          71.6,
          71.3,
          71.4,
          71.6,
          71.6,
          71.7,
          71.9,
          70.4,
          69.2,
          71.3,
          72.6
         ]
        },
        {
         "line": {
          "color": "#c46e6e",
          "width": 3
         },
         "marker": {
          "size": 6
         },
         "mode": "lines+markers",
         "name": "Females",
         "type": "scatter",
         "visible": true,
         "x": [
          1968,
          1969,
          1970,
          1971,
          1972,
          1973,
          1974,
          1975,
          1976,
          1977,
          1978,
          1979,
          1980,
          1981,
          1982,
          1983,
          1984,
          1985,
          1986,
          1987,
          1988,
          1989,
          1990,
          1991,
          1992,
          1993,
          1994,
          1995,
          1996,
          1997,
          1998,
          1999,
          2000,
          2001,
          2002,
          2003,
          2004,
          2005,
          2006,
          2007,
          2008,
          2009,
          2010,
          2011,
          2012,
          2013,
          2014,
          2015,
          2016,
          2017,
          2018,
          2019,
          2020,
          2021,
          2022,
          2023
         ],
         "y": [
          70.3,
          69.7,
          70.4,
          70.8,
          71.4,
          71,
          71.9,
          72.1,
          72.2,
          72.1,
          72.3,
          72.1,
          71.9,
          72.4,
          72.5,
          72.6,
          72.7,
          72.3,
          72.8,
          72,
          72.4,
          72.7,
          73.1,
          73.5,
          73.2,
          73.4,
          73.3,
          73.5,
          72.8,
          73.3,
          73.8,
          74.2,
          74.8,
          74.9,
          74.6,
          74.8,
          75.1,
          75.4,
          76.1,
          76.8,
          77.5,
          77.7,
          77.7,
          78.2,
          78.1,
          78.7,
          78.7,
          78.6,
          79,
          79,
          79.2,
          79.5,
          78.3,
          76.6,
          79.2,
          80.4
         ]
        },
        {
         "line": {
          "color": "#46C07a",
          "width": 3
         },
         "marker": {
          "size": 6
         },
         "mode": "lines+markers",
         "name": "Total",
         "type": "scatter",
         "visible": false,
         "x": [
          1968,
          1969,
          1970,
          1971,
          1972,
          1973,
          1974,
          1975,
          1976,
          1977,
          1978,
          1979,
          1980,
          1981,
          1982,
          1983,
          1984,
          1985,
          1986,
          1987,
          1988,
          1989,
          1990,
          1991,
          1992,
          1993,
          1994,
          1995,
          1996,
          1997,
          1998,
          1999,
          2000,
          2001,
          2002,
          2003,
          2004,
          2005,
          2006,
          2007,
          2008,
          2009,
          2010,
          2011,
          2012,
          2013,
          2014,
          2015,
          2016,
          2017,
          2018,
          2019,
          2020,
          2021,
          2022,
          2023
         ],
         "y": [
          68.2,
          67.4,
          68.2,
          68.7,
          69.2,
          68.8,
          69.7,
          69.8,
          70,
          69.8,
          69.8,
          69.5,
          69.2,
          69.5,
          69.8,
          69.8,
          69.8,
          69.3,
          69.7,
          69,
          69.4,
          69.7,
          69.9,
          70.1,
          69.5,
          69.5,
          69.4,
          69.3,
          68.8,
          69.1,
          69.9,
          70.6,
          71.2,
          71.1,
          70.9,
          71,
          71.4,
          71.9,
          72.5,
          73.1,
          73.5,
          73.7,
          73.7,
          74.4,
          74.4,
          75.1,
          75,
          74.9,
          75.2,
          75.2,
          75.3,
          75.6,
          74.2,
          72.8,
          75.1,
          76.4
         ]
        }
       ],
       "layout": {
        "hovermode": "x unified",
        "legend": {
         "bgcolor": "rgba(255,255,255,0.8)",
         "bordercolor": "rgba(0,0,0,0.2)",
         "borderwidth": 1,
         "x": 0.02,
         "y": 0.98
        },
        "paper_bgcolor": "#F8EFDE",
        "plot_bgcolor": "#F8EFDE",
        "template": {
         "data": {
          "bar": [
           {
            "error_x": {
             "color": "#2a3f5f"
            },
            "error_y": {
             "color": "#2a3f5f"
            },
            "marker": {
             "line": {
              "color": "#E5ECF6",
              "width": 0.5
             },
             "pattern": {
              "fillmode": "overlay",
              "size": 10,
              "solidity": 0.2
             }
            },
            "type": "bar"
           }
          ],
          "barpolar": [
           {
            "marker": {
             "line": {
              "color": "#E5ECF6",
              "width": 0.5
             },
             "pattern": {
              "fillmode": "overlay",
              "size": 10,
              "solidity": 0.2
             }
            },
            "type": "barpolar"
           }
          ],
          "carpet": [
           {
            "aaxis": {
             "endlinecolor": "#2a3f5f",
             "gridcolor": "white",
             "linecolor": "white",
             "minorgridcolor": "white",
             "startlinecolor": "#2a3f5f"
            },
            "baxis": {
             "endlinecolor": "#2a3f5f",
             "gridcolor": "white",
             "linecolor": "white",
             "minorgridcolor": "white",
             "startlinecolor": "#2a3f5f"
            },
            "type": "carpet"
           }
          ],
          "choropleth": [
           {
            "colorbar": {
             "outlinewidth": 0,
             "ticks": ""
            },
            "type": "choropleth"
           }
          ],
          "contour": [
           {
            "colorbar": {
             "outlinewidth": 0,
             "ticks": ""
            },
            "colorscale": [
             [
              0,
              "#0d0887"
             ],
             [
              0.1111111111111111,
              "#46039f"
             ],
             [
              0.2222222222222222,
              "#7201a8"
             ],
             [
              0.3333333333333333,
              "#9c179e"
             ],
             [
              0.4444444444444444,
              "#bd3786"
             ],
             [
              0.5555555555555556,
              "#d8576b"
             ],
             [
              0.6666666666666666,
              "#ed7953"
             ],
             [
              0.7777777777777778,
              "#fb9f3a"
             ],
             [
              0.8888888888888888,
              "#fdca26"
             ],
             [
              1,
              "#f0f921"
             ]
            ],
            "type": "contour"
           }
          ],
          "contourcarpet": [
           {
            "colorbar": {
             "outlinewidth": 0,
             "ticks": ""
            },
            "type": "contourcarpet"
           }
          ],
          "heatmap": [
           {
            "colorbar": {
             "outlinewidth": 0,
             "ticks": ""
            },
            "colorscale": [
             [
              0,
              "#0d0887"
             ],
             [
              0.1111111111111111,
              "#46039f"
             ],
             [
              0.2222222222222222,
              "#7201a8"
             ],
             [
              0.3333333333333333,
              "#9c179e"
             ],
             [
              0.4444444444444444,
              "#bd3786"
             ],
             [
              0.5555555555555556,
              "#d8576b"
             ],
             [
              0.6666666666666666,
              "#ed7953"
             ],
             [
              0.7777777777777778,
              "#fb9f3a"
             ],
             [
              0.8888888888888888,
              "#fdca26"
             ],
             [
              1,
              "#f0f921"
             ]
            ],
            "type": "heatmap"
           }
          ],
          "heatmapgl": [
           {
            "colorbar": {
             "outlinewidth": 0,
             "ticks": ""
            },
            "colorscale": [
             [
              0,
              "#0d0887"
             ],
             [
              0.1111111111111111,
              "#46039f"
             ],
             [
              0.2222222222222222,
              "#7201a8"
             ],
             [
              0.3333333333333333,
              "#9c179e"
             ],
             [
              0.4444444444444444,
              "#bd3786"
             ],
             [
              0.5555555555555556,
              "#d8576b"
             ],
             [
              0.6666666666666666,
              "#ed7953"
             ],
             [
              0.7777777777777778,
              "#fb9f3a"
             ],
             [
              0.8888888888888888,
              "#fdca26"
             ],
             [
              1,
              "#f0f921"
             ]
            ],
            "type": "heatmapgl"
           }
          ],
          "histogram": [
           {
            "marker": {
             "pattern": {
              "fillmode": "overlay",
              "size": 10,
              "solidity": 0.2
             }
            },
            "type": "histogram"
           }
          ],
          "histogram2d": [
           {
            "colorbar": {
             "outlinewidth": 0,
             "ticks": ""
            },
            "colorscale": [
             [
              0,
              "#0d0887"
             ],
             [
              0.1111111111111111,
              "#46039f"
             ],
             [
              0.2222222222222222,
              "#7201a8"
             ],
             [
              0.3333333333333333,
              "#9c179e"
             ],
             [
              0.4444444444444444,
              "#bd3786"
             ],
             [
              0.5555555555555556,
              "#d8576b"
             ],
             [
              0.6666666666666666,
              "#ed7953"
             ],
             [
              0.7777777777777778,
              "#fb9f3a"
             ],
             [
              0.8888888888888888,
              "#fdca26"
             ],
             [
              1,
              "#f0f921"
             ]
            ],
            "type": "histogram2d"
           }
          ],
          "histogram2dcontour": [
           {
            "colorbar": {
             "outlinewidth": 0,
             "ticks": ""
            },
            "colorscale": [
             [
              0,
              "#0d0887"
             ],
             [
              0.1111111111111111,
              "#46039f"
             ],
             [
              0.2222222222222222,
              "#7201a8"
             ],
             [
              0.3333333333333333,
              "#9c179e"
             ],
             [
              0.4444444444444444,
              "#bd3786"
             ],
             [
              0.5555555555555556,
              "#d8576b"
             ],
             [
              0.6666666666666666,
              "#ed7953"
             ],
             [
              0.7777777777777778,
              "#fb9f3a"
             ],
             [
              0.8888888888888888,
              "#fdca26"
             ],
             [
              1,
              "#f0f921"
             ]
            ],
            "type": "histogram2dcontour"
           }
          ],
          "mesh3d": [
           {
            "colorbar": {
             "outlinewidth": 0,
             "ticks": ""
            },
            "type": "mesh3d"
           }
          ],
          "parcoords": [
           {
            "line": {
             "colorbar": {
              "outlinewidth": 0,
              "ticks": ""
             }
            },
            "type": "parcoords"
           }
          ],
          "pie": [
           {
            "automargin": true,
            "type": "pie"
           }
          ],
          "scatter": [
           {
            "fillpattern": {
             "fillmode": "overlay",
             "size": 10,
             "solidity": 0.2
            },
            "type": "scatter"
           }
          ],
          "scatter3d": [
           {
            "line": {
             "colorbar": {
              "outlinewidth": 0,
              "ticks": ""
             }
            },
            "marker": {
             "colorbar": {
              "outlinewidth": 0,
              "ticks": ""
             }
            },
            "type": "scatter3d"
           }
          ],
          "scattercarpet": [
           {
            "marker": {
             "colorbar": {
              "outlinewidth": 0,
              "ticks": ""
             }
            },
            "type": "scattercarpet"
           }
          ],
          "scattergeo": [
           {
            "marker": {
             "colorbar": {
              "outlinewidth": 0,
              "ticks": ""
             }
            },
            "type": "scattergeo"
           }
          ],
          "scattergl": [
           {
            "marker": {
             "colorbar": {
              "outlinewidth": 0,
              "ticks": ""
             }
            },
            "type": "scattergl"
           }
          ],
          "scattermapbox": [
           {
            "marker": {
             "colorbar": {
              "outlinewidth": 0,
              "ticks": ""
             }
            },
            "type": "scattermapbox"
           }
          ],
          "scatterpolar": [
           {
            "marker": {
             "colorbar": {
              "outlinewidth": 0,
              "ticks": ""
             }
            },
            "type": "scatterpolar"
           }
          ],
          "scatterpolargl": [
           {
            "marker": {
             "colorbar": {
              "outlinewidth": 0,
              "ticks": ""
             }
            },
            "type": "scatterpolargl"
           }
          ],
          "scatterternary": [
           {
            "marker": {
             "colorbar": {
              "outlinewidth": 0,
              "ticks": ""
             }
            },
            "type": "scatterternary"
           }
          ],
          "surface": [
           {
            "colorbar": {
             "outlinewidth": 0,
             "ticks": ""
            },
            "colorscale": [
             [
              0,
              "#0d0887"
             ],
             [
              0.1111111111111111,
              "#46039f"
             ],
             [
              0.2222222222222222,
              "#7201a8"
             ],
             [
              0.3333333333333333,
              "#9c179e"
             ],
             [
              0.4444444444444444,
              "#bd3786"
             ],
             [
              0.5555555555555556,
              "#d8576b"
             ],
             [
              0.6666666666666666,
              "#ed7953"
             ],
             [
              0.7777777777777778,
              "#fb9f3a"
             ],
             [
              0.8888888888888888,
              "#fdca26"
             ],
             [
              1,
              "#f0f921"
             ]
            ],
            "type": "surface"
           }
          ],
          "table": [
           {
            "cells": {
             "fill": {
              "color": "#EBF0F8"
             },
             "line": {
              "color": "white"
             }
            },
            "header": {
             "fill": {
              "color": "#C8D4E3"
             },
             "line": {
              "color": "white"
             }
            },
            "type": "table"
           }
          ]
         },
         "layout": {
          "annotationdefaults": {
           "arrowcolor": "#2a3f5f",
           "arrowhead": 0,
           "arrowwidth": 1
          },
          "autotypenumbers": "strict",
          "coloraxis": {
           "colorbar": {
            "outlinewidth": 0,
            "ticks": ""
           }
          },
          "colorscale": {
           "diverging": [
            [
             0,
             "#8e0152"
            ],
            [
             0.1,
             "#c51b7d"
            ],
            [
             0.2,
             "#de77ae"
            ],
            [
             0.3,
             "#f1b6da"
            ],
            [
             0.4,
             "#fde0ef"
            ],
            [
             0.5,
             "#f7f7f7"
            ],
            [
             0.6,
             "#e6f5d0"
            ],
            [
             0.7,
             "#b8e186"
            ],
            [
             0.8,
             "#7fbc41"
            ],
            [
             0.9,
             "#4d9221"
            ],
            [
             1,
             "#276419"
            ]
           ],
           "sequential": [
            [
             0,
             "#0d0887"
            ],
            [
             0.1111111111111111,
             "#46039f"
            ],
            [
             0.2222222222222222,
             "#7201a8"
            ],
            [
             0.3333333333333333,
             "#9c179e"
            ],
            [
             0.4444444444444444,
             "#bd3786"
            ],
            [
             0.5555555555555556,
             "#d8576b"
            ],
            [
             0.6666666666666666,
             "#ed7953"
            ],
            [
             0.7777777777777778,
             "#fb9f3a"
            ],
            [
             0.8888888888888888,
             "#fdca26"
            ],
            [
             1,
             "#f0f921"
            ]
           ],
           "sequentialminus": [
            [
             0,
             "#0d0887"
            ],
            [
             0.1111111111111111,
             "#46039f"
            ],
            [
             0.2222222222222222,
             "#7201a8"
            ],
            [
             0.3333333333333333,
             "#9c179e"
            ],
            [
             0.4444444444444444,
             "#bd3786"
            ],
            [
             0.5555555555555556,
             "#d8576b"
            ],
            [
             0.6666666666666666,
             "#ed7953"
            ],
            [
             0.7777777777777778,
             "#fb9f3a"
            ],
            [
             0.8888888888888888,
             "#fdca26"
            ],
            [
             1,
             "#f0f921"
            ]
           ]
          },
          "colorway": [
           "#636efa",
           "#EF553B",
           "#00cc96",
           "#ab63fa",
           "#FFA15A",
           "#19d3f3",
           "#FF6692",
           "#B6E880",
           "#FF97FF",
           "#FECB52"
          ],
          "font": {
           "color": "#2a3f5f"
          },
          "geo": {
           "bgcolor": "white",
           "lakecolor": "white",
           "landcolor": "#E5ECF6",
           "showlakes": true,
           "showland": true,
           "subunitcolor": "white"
          },
          "hoverlabel": {
           "align": "left"
          },
          "hovermode": "closest",
          "mapbox": {
           "style": "light"
          },
          "paper_bgcolor": "white",
          "plot_bgcolor": "#E5ECF6",
          "polar": {
           "angularaxis": {
            "gridcolor": "white",
            "linecolor": "white",
            "ticks": ""
           },
           "bgcolor": "#E5ECF6",
           "radialaxis": {
            "gridcolor": "white",
            "linecolor": "white",
            "ticks": ""
           }
          },
          "scene": {
           "xaxis": {
            "backgroundcolor": "#E5ECF6",
            "gridcolor": "white",
            "gridwidth": 2,
            "linecolor": "white",
            "showbackground": true,
            "ticks": "",
            "zerolinecolor": "white"
           },
           "yaxis": {
            "backgroundcolor": "#E5ECF6",
            "gridcolor": "white",
            "gridwidth": 2,
            "linecolor": "white",
            "showbackground": true,
            "ticks": "",
            "zerolinecolor": "white"
           },
           "zaxis": {
            "backgroundcolor": "#E5ECF6",
            "gridcolor": "white",
            "gridwidth": 2,
            "linecolor": "white",
            "showbackground": true,
            "ticks": "",
            "zerolinecolor": "white"
           }
          },
          "shapedefaults": {
           "line": {
            "color": "#2a3f5f"
           }
          },
          "ternary": {
           "aaxis": {
            "gridcolor": "white",
            "linecolor": "white",
            "ticks": ""
           },
           "baxis": {
            "gridcolor": "white",
            "linecolor": "white",
            "ticks": ""
           },
           "bgcolor": "#E5ECF6",
           "caxis": {
            "gridcolor": "white",
            "linecolor": "white",
            "ticks": ""
           }
          },
          "title": {
           "x": 0.05
          },
          "xaxis": {
           "automargin": true,
           "gridcolor": "white",
           "linecolor": "white",
           "ticks": "",
           "title": {
            "standoff": 15
           },
           "zerolinecolor": "white",
           "zerolinewidth": 2
          },
          "yaxis": {
           "automargin": true,
           "gridcolor": "white",
           "linecolor": "white",
           "ticks": "",
           "title": {
            "standoff": 15
           },
           "zerolinecolor": "white",
           "zerolinewidth": 2
          }
         }
        },
        "title": {
         "text": "Romania Life Expectancy (1990-2023)"
        },
        "updatemenus": [
         {
          "bgcolor": "rgba(255,255,255,0.8)",
          "bordercolor": "rgba(0,0,0,0.2)",
          "borderwidth": 1,
          "buttons": [
           {
            "args": [
             {
              "visible": [
               true,
               true,
               false
              ]
             }
            ],
            "label": "By Gender",
            "method": "restyle"
           },
           {
            "args": [
             {
              "visible": [
               false,
               false,
               true
              ]
             }
            ],
            "label": "Total Only",
            "method": "restyle"
           }
          ],
          "direction": "left",
          "font": {
           "size": 12
          },
          "pad": {
           "r": 10,
           "t": 10
          },
          "showactive": true,
          "type": "buttons",
          "x": 0.5,
          "xanchor": "center",
          "y": 1.2,
          "yanchor": "middle"
         }
        ],
        "xaxis": {
         "dtick": 2,
         "title": {
          "text": "Year"
         }
        },
        "yaxis": {
         "tickformat": ".1f",
         "title": {
          "text": "Life Expectancy (Years)"
         }
        }
       }
      }
     },
     "metadata": {},
     "output_type": "display_data"
    }
   ],
   "source": [
    "import pandas as pd  # Needed to read the Excel file\n",
    "import plotly.graph_objects as go\n",
    "import ipywidgets as widgets\n",
    "from IPython.display import display\n",
    "\n",
    "# Load the saved data\n",
    "file_path = r'C:\\Users\\Svitlana\\OneDrive\\RoFacts\\mvp\\data\\life_expectancy.xlsx'\n",
    "df = pd.read_excel(file_path)\n",
    "\n",
    "# Define colors matching your reference\n",
    "color_background = '#F8EFDE'\n",
    "color_male = '#4f7d8f'  # Blue for males\n",
    "color_female = '#c46e6e'  # Red for females\n",
    "color_total = '#46C07a'  # Green for total (using your wage color)\n",
    "\n",
    "def create_life_expectancy_chart():\n",
    "    \"\"\"Create life expectancy chart with built-in toggle button\"\"\"\n",
    "    \n",
    "    fig = go.Figure()\n",
    "    \n",
    "    # Prepare data\n",
    "    male_data = df[df['Sex'] == 'Males']\n",
    "    female_data = df[df['Sex'] == 'Females']\n",
    "    total_data = df[df['Sex'] == 'Total']\n",
    "    \n",
    "    # Add all traces (we'll control visibility with buttons)\n",
    "    if not male_data.empty:\n",
    "        fig.add_trace(go.Scatter(\n",
    "            x=male_data['Year'], \n",
    "            y=male_data['Life_Expectancy'],\n",
    "            mode='lines+markers',\n",
    "            name='Males',\n",
    "            line=dict(color=color_male, width=3),\n",
    "            marker=dict(size=6),\n",
    "            visible=True\n",
    "        ))\n",
    "    \n",
    "    if not female_data.empty:\n",
    "        fig.add_trace(go.Scatter(\n",
    "            x=female_data['Year'], \n",
    "            y=female_data['Life_Expectancy'],\n",
    "            mode='lines+markers',\n",
    "            name='Females',\n",
    "            line=dict(color=color_female, width=3),\n",
    "            marker=dict(size=6),\n",
    "            visible=True\n",
    "        ))\n",
    "    \n",
    "    if not total_data.empty:\n",
    "        fig.add_trace(go.Scatter(\n",
    "            x=total_data['Year'], \n",
    "            y=total_data['Life_Expectancy'],\n",
    "            mode='lines+markers',\n",
    "            name='Total',\n",
    "            line=dict(color=color_total, width=3),\n",
    "            marker=dict(size=6),\n",
    "            visible=False\n",
    "        ))\n",
    "    \n",
    "    # Update layout with your styling and buttons\n",
    "    fig.update_layout(\n",
    "        title='Romania Life Expectancy (1968-2023)',\n",
    "        xaxis_title='Year',\n",
    "        yaxis_title='Life Expectancy (Years)',\n",
    "        plot_bgcolor=color_background,\n",
    "        paper_bgcolor=color_background,\n",
    "        xaxis=dict(\n",
    "            dtick=2  # Show every 2 years\n",
    "        ),\n",
    "        yaxis=dict(\n",
    "            tickformat='.1f'  # One decimal place\n",
    "        ),\n",
    "        legend=dict(\n",
    "            x=0.02,\n",
    "            y=0.98,\n",
    "            bgcolor='rgba(255,255,255,0.8)',\n",
    "            bordercolor='rgba(0,0,0,0.2)',\n",
    "            borderwidth=1\n",
    "        ),\n",
    "        hovermode='x unified',\n",
    "        updatemenus=[\n",
    "            dict(\n",
    "                type=\"buttons\",\n",
    "                direction=\"left\",\n",
    "                buttons=list([\n",
    "                    dict(\n",
    "                        args=[{\"visible\": [True, True, False]}],\n",
    "                        label=\"By Gender\",\n",
    "                        method=\"restyle\"\n",
    "                    ),\n",
    "                    dict(\n",
    "                        args=[{\"visible\": [False, False, True]}],\n",
    "                        label=\"Total Only\",\n",
    "                        method=\"restyle\"\n",
    "                    )\n",
    "                ]),\n",
    "                pad={\"r\": 10, \"t\": 10},\n",
    "                showactive=True,\n",
    "                x=0.5,\n",
    "                xanchor=\"center\",\n",
    "                y=1.2,\n",
    "                yanchor=\"middle\",\n",
    "                bgcolor='rgba(255,255,255,0.8)',\n",
    "                bordercolor='rgba(0,0,0,0.2)',\n",
    "                borderwidth=1,\n",
    "                font=dict(size=12)\n",
    "            ),\n",
    "        ]\n",
    "    )\n",
    "    \n",
    "    return fig\n",
    "\n",
    "# Create and display the chart\n",
    "fig = create_life_expectancy_chart()\n",
    "fig.show()\n"
   ]
  }
 ],
 "metadata": {
  "kernelspec": {
   "display_name": "base",
   "language": "python",
   "name": "python3"
  },
  "language_info": {
   "codemirror_mode": {
    "name": "ipython",
    "version": 3
   },
   "file_extension": ".py",
   "mimetype": "text/x-python",
   "name": "python",
   "nbconvert_exporter": "python",
   "pygments_lexer": "ipython3",
   "version": "3.12.3"
  }
 },
 "nbformat": 4,
 "nbformat_minor": 5
}
